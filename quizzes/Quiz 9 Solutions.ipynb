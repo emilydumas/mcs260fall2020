{
 "cells": [
  {
   "cell_type": "markdown",
   "metadata": {},
   "source": [
    "# Question 1: Finish the HTML\n",
    "\n",
    "Below you will see the start of a HTML file, but the rest is cut off.  In the answer box, type some text that can be added below the given HTML fragment to make it a valid HTML file that has matching end tags for every start tag.\n",
    "\n",
    "```html\n",
    "<!doctype html>\n",
    "<html>\n",
    "<head>\n",
    "<title>MCS 260 Fall 2020 Quiz 9 by Emily Dumas</title>\n",
    "</head>\n",
    "<body>\n",
    "<p>It is prohibited to give or receive assistances on the\n",
    "quizzes.\n",
    "In particular, the following are not allowed:</p>\n",
    "<ul>\n",
    "<li>Working on a quiz in a group</li>\n",
    "<li>Searching for solutions\n",
    "online\n",
    "```"
   ]
  },
  {
   "cell_type": "markdown",
   "metadata": {},
   "source": [
    "``` html\n",
    "</li>\n",
    "</ul>\n",
    "</body>\n",
    "</html>\n",
    "```"
   ]
  },
  {
   "cell_type": "markdown",
   "metadata": {},
   "source": [
    "# Question 2: Start the HTML\n",
    "\n",
    "This problem is similar to the previous one, but now you must write the beginning of the HTML file, so that in combination with the lines below gives a valid HTML file that has matching end tags for every start tag.  (Reminder: A HTML file must have a title!)\n",
    "\n"
   ]
  },
  {
   "cell_type": "markdown",
   "metadata": {},
   "source": [
    "``` html\n",
    "<!doctype html>\n",
    "<html>\n",
    "    <head>\n",
    "        <title>Laser-shark Incident Report</title>\n",
    "    </head>\n",
    "    <body>\n",
    "        <p> To whom it may concern: </p>\n",
    "        <p> On behalf of the Chicago Aquarium,\n",
    "            I would like to express my sincere \n",
    "            apology for the recent shark-laser\n",
    "            incident. We have relocated all of \n",
    "            the offending sharks, \n",
    "```"
   ]
  },
  {
   "cell_type": "markdown",
   "metadata": {},
   "source": [
    "```html\n",
    "as well as a few of the lasers that were stored\n",
    "in the aquatics lab.  Rest assured that additional\n",
    "safety protocols are now in place, which should\n",
    "prevent incidents like this from happening in\n",
    "the future.</p>\n",
    "<p>I look forward to working with OSHA as the\n",
    "investigation continues.</p>\n",
    "</body>\n",
    "</html>\n",
    "```"
   ]
  },
  {
   "cell_type": "markdown",
   "metadata": {},
   "source": [
    "# Question 3: Course Class\n",
    "\n",
    "Define a class called `Course` that represents a course at UIC.  The constructor should take the following arguments:\n",
    "\n",
    "* `rubric`, a string, which is the abbreviated subject appearing before the course number, such as \"MCS\" or \"CS\" or \"MATH\" or \"SHARKLIT\"\n",
    "* `number`, an integer, which is the course number (such as 260 or 596)\n",
    "* `title`, a string, which is the official title of the course, such as \"Introduction to Computer Science\", or \"Sharks in postmodern literature\".\n",
    "\n",
    "Each of these items should be stored in an attribute of the class whose name is the same as the argument name.\n",
    "\n",
    "The class should overload the `==` operator so that two `Course` objects are considered equal if their rubrics, numbers, and titles agree.\n",
    "\n",
    "Calling `str()` on an instance of `Course` should yield the course name in this format\n",
    "\n",
    "`\"MCS 260: Introduction to Computer Science\"`\n",
    "\n",
    "(i.e. rubric, space, number, colon, space, title).\n",
    "\n",
    "Finally, the class should define two methods that return boolean values:\n",
    "\n",
    "* `isgrad()` returns True if the course number is greater than or equal to 500.\n",
    "* `isMSCS()` returns True if the course is one of those taught in the Department of Mathematics, Statistics, and Computer Science, which are the rubrics MATH, MCS, STAT and MTHT.\n",
    "\n",
    "**Compose your class in an editor and test all of its features before pasting your answer here.**\n"
   ]
  },
  {
   "cell_type": "code",
   "execution_count": 1,
   "metadata": {},
   "outputs": [],
   "source": [
    "class Course():\n",
    "    '''Class to store information about a course at UIC'''\n",
    "    \n",
    "    def __init__(self, rubric, number, title):\n",
    "        '''Course initializer which assigns the attributes rubric, number, and title'''\n",
    "        self.rubric = rubric\n",
    "        self.number = number\n",
    "        self.title = title\n",
    "    \n",
    "    def __eq__(self, other):\n",
    "        '''Operator overloaded to check if the Course attributes are equal'''\n",
    "        return self.rubric==other.rubric and self.number==other.number and self.title==other.title\n",
    "    \n",
    "    def __str__(self):\n",
    "        '''Returns a string like `MCS 260: Introduction to Computer Science` '''\n",
    "        return \"{} {}: {}\".format(self.rubric, self.number, self.title)\n",
    "    \n",
    "    def isgrad(self):\n",
    "        '''Returns True if self.number >=500, i.e. if the course is for grad students. \n",
    "        Returns False otherwise.'''\n",
    "        return self.number >= 500\n",
    "    \n",
    "    def isMSCS(self):\n",
    "        '''Returns True if self.rubric is in [`MATH`, `MCS`, `STAT`, `MATHT`].\n",
    "        Returns False otherwise'''\n",
    "        mscs = [\"MATH\", \"MCS\", \"STAT\", \"MATHT\"]\n",
    "        return self.rubric in mscs\n",
    "    "
   ]
  },
  {
   "cell_type": "code",
   "execution_count": 2,
   "metadata": {},
   "outputs": [
    {
     "name": "stdout",
     "output_type": "stream",
     "text": [
      "c= MCS 260: Introduction to Comp. Sci\n",
      "d= MCS 260: Introduction to Comp. Sci\n",
      "h= HIST 100: Introduction to History\n",
      "a= MATH 516: Abstract Algebra I\n",
      "\n",
      "\n",
      "TRUE c==d True\n",
      "FALSE h==c False\n",
      "FALSE a==c False\n",
      "\n",
      "\n",
      "FALSE isgrad(c) False\n",
      "TRUE isgrad(a) True\n",
      "\n",
      "\n",
      "FALSE isMSCS(h) False\n",
      "TRUE isMSCS(a) True\n"
     ]
    }
   ],
   "source": [
    "# Test code for question 3\n",
    "\n",
    "# Create some Course objects\n",
    "c = Course(\"MCS\", 260, \"Introduction to Comp. Sci\")\n",
    "d = Course(\"MCS\", 260, \"Introduction to Comp. Sci\")\n",
    "h = Course(\"HIST\", 100, \"Introduction to History\")\n",
    "a = Course(\"MATH\", 516, \"Abstract Algebra I\")\n",
    "\n",
    "# Print out the course objects to test __str__ method\n",
    "print(\"c=\",c)\n",
    "print(\"d=\",d)\n",
    "print(\"h=\",h)\n",
    "print(\"a=\",a)\n",
    "print(\"\\n\")\n",
    "\n",
    "# Check the __eq__ method\n",
    "print(\"TRUE c==d\", c==d)\n",
    "print(\"FALSE h==c\", h==c)\n",
    "print(\"FALSE a==c\", a==c)\n",
    "print(\"\\n\")\n",
    "\n",
    "# Check the isgrad method\n",
    "print(\"FALSE isgrad(c)\",c.isgrad())\n",
    "print(\"TRUE isgrad(a)\",a.isgrad())\n",
    "print(\"\\n\")\n",
    "\n",
    "# Check the isMSCS method\n",
    "print(\"FALSE isMSCS(h)\",h.isMSCS())\n",
    "print(\"TRUE isMSCS(a)\",a.isMSCS())"
   ]
  },
  {
   "cell_type": "code",
   "execution_count": null,
   "metadata": {},
   "outputs": [],
   "source": []
  }
 ],
 "metadata": {
  "kernelspec": {
   "display_name": "Python 3",
   "language": "python",
   "name": "python3"
  },
  "language_info": {
   "codemirror_mode": {
    "name": "ipython",
    "version": 3
   },
   "file_extension": ".py",
   "mimetype": "text/x-python",
   "name": "python",
   "nbconvert_exporter": "python",
   "pygments_lexer": "ipython3",
   "version": "3.8.5"
  }
 },
 "nbformat": 4,
 "nbformat_minor": 4
}
