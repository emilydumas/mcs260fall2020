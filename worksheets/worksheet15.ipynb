{
 "cells": [
  {
   "cell_type": "markdown",
   "metadata": {},
   "source": [
    "# Worksheet 15\n",
    "\n",
    "## MCS 260 Fall 2020 - Emily Dumas"
   ]
  },
  {
   "cell_type": "markdown",
   "metadata": {},
   "source": [
    "## Instructions:\n",
    "* This is the last worksheet.  Congratulations on making it this far!\n",
    "* Complete the problems below to improve your understanding of the material from Week 14.\n",
    "* There will not be a quiz on this material.  Quiz 14 was the last quiz of the semester.\n",
    "* Collaboration is strongly encouraged on Worksheets.\n",
    "* Test your work to make sure it does what is asked."
   ]
  },
  {
   "cell_type": "markdown",
   "metadata": {},
   "source": [
    "## Useful references\n",
    "\n",
    "These resources may be helpful while working on this worksheet.\n",
    "\n",
    "* GUI lectures:\n",
    "    * [Lecture 36](https://www.dumas.io/teaching/2020/fall/mcs260/slides/lecture36.html)\n",
    "    * [Lecture 38](https://www.dumas.io/teaching/2020/fall/mcs260/slides/lecture38.html)\n",
    "    * [Lecture 40](https://www.dumas.io/teaching/2020/fall/mcs260/slides/lecture40.html)\n",
    "* Threading lecture:\n",
    "    * [Lecture 39](https://www.dumas.io/teaching/2020/fall/mcs260/slides/lecture39.html)\n",
    "* Relevant sample code:\n",
    "    * Threading\n",
    "        * [workers_10am_fixed.py](https://github.com/emilydumas/mcs260fall2020/blob/master/samplecode/threads/workers_10am_fixed.py)\n",
    "        * [workers_2pm.py](https://github.com/emilydumas/mcs260fall2020/blob/master/samplecode/threads/workers_2pm.py)\n",
    "    * GUI\n",
    "        * [sharkencode.py](https://github.com/emilydumas/mcs260fall2020/blob/master/samplecode/tkinter/sharkencode.py)\n",
    "        * [lasercode.py](https://github.com/emilydumas/mcs260fall2020/blob/master/samplecode/tkinter/lasercode.py)\n",
    "* tkinter GUI reference\n",
    "    * [TkDocs](https://tkdocs.com/tutorial/)\n"
   ]
  },
  {
   "cell_type": "markdown",
   "metadata": {},
   "source": [
    "## Problem 1"
   ]
  },
  {
   "cell_type": "markdown",
   "metadata": {},
   "source": [
    "Write a program that uses the `threading` module to start a second thread.  The second thread should do the following:\n",
    "* Print the numbers 30, 29, 28, ..., one per second, to the terminal.  Use `time.sleep(1)` to generate the delays.\n",
    "\n",
    "Meanwhile, the main thread should do the following:\n",
    "* Print a message \"Type the entire alphabet and press enter\"\n",
    "* Wait for the user to enter a line of input\n",
    "* Compare the input to \"abcdefghijklmnopqrstuvwxyz\".  If it is equal, print \"Good job!\".  If it is not equal, print \"Better luck next time.\"\n",
    "\n",
    "Test the program.  What happens if you take less than 30 seconds to enter a string?  Does the program exit immediately?"
   ]
  },
  {
   "cell_type": "markdown",
   "metadata": {},
   "source": [
    "## Problem 2"
   ]
  },
  {
   "cell_type": "markdown",
   "metadata": {},
   "source": [
    "In Python, each `threading.Thread` object has a method called `.is_alive()` which returns a boolean indicating whether the thread is still alive.  That is, it returns True if the thread is running, False if it has exited.\n",
    "\n",
    "Modify the program from problem 1 as follows:\n",
    "* Make the countdown thread a daemon thread (so it is terminated when the main thread is done)\n",
    "* After reading the line of input, the main thread should check whether the countdown thread is still alive.  If it is, it should print the same message as before (\"Good job!\" or \"Better luck next time.\").  If it is not, meaning that at least 30 seconds elapsed, it should print \"Time ran out.\""
   ]
  },
  {
   "cell_type": "markdown",
   "metadata": {},
   "source": [
    "## Problem 3"
   ]
  },
  {
   "cell_type": "markdown",
   "metadata": {},
   "source": [
    "Write a tkinter GUI program called `squares.py`.  The interface should have a slider and a read-only entry widget.  The slider should allow the user to select an integer between 0 and 30.  The entry widget should display a statement about the square of the current value of the slider, like `7**2 = 49` if the current slider value is `5`.  The final GUI might look like this:\n",
    "\n",
    "![Screenshot of squares GUI](squares-screenshot.png)\n",
    "\n",
    "(The exact appearance will vary depending on the platform you use, i.e. Windows, MacOS, Linux, ...)"
   ]
  },
  {
   "cell_type": "markdown",
   "metadata": {},
   "source": [
    "## Problem 4"
   ]
  },
  {
   "cell_type": "markdown",
   "metadata": {},
   "source": [
    "Modify the producer-consumer example program from lecture 39,\n",
    "\n",
    "* [workers_10am_fixed.py](https://github.com/emilydumas/mcs260fall2020/blob/master/samplecode/threads/workers_10am_fixed.py)\n",
    "* [workers_2pm_fixed.py](https://github.com/emilydumas/mcs260fall2020/blob/master/samplecode/threads/workers_2pm.py)\n",
    "\n",
    "in the following ways:\n",
    "\n",
    "* Have two queues: `job_queue` to send work to the workers, and `results_queue` that the workers use to send results back to the main thread.\n",
    "* Change the workers so they don't just print the job number.  Instead, they compute the square of the job number, wait a short time, and then send the square back to the main thread using `results_queue`.\n",
    "* After starting the workers, the main queue adds lots of jobs all at once.  Then it waits for results to be returned, displaying them as they arrive.  (It might print `Received result: 49` or something similar.)  Use `queue.Queue.get()` for this; this function will not return until a new item is available.\n",
    "\n",
    "For simplicity, in this problem you can write a program where the main thread will run forever, waiting for more results even after the last one has been received.  This allows you to not worry about monitoring the state of the worker threads so that the main thread can decide when to exit."
   ]
  },
  {
   "cell_type": "markdown",
   "metadata": {},
   "source": [
    "## Problem 5"
   ]
  },
  {
   "cell_type": "markdown",
   "metadata": {},
   "source": [
    "Modify the program from Problem 3 so that there are two sliders, and so that the sliders are labeled.  One slider should be called `Base`, the other `Exponent`.  The Entry widget should show the computation of `b**k` where `b` is the base and `k` is the exponent.  For example, if the base slider is set to 5 and the exponent slider to 3, it would show `5**3 = 125`.\n",
    "\n",
    "Also add a button to quit the program that is shown below the rest of the interface, on the right hand side."
   ]
  },
  {
   "cell_type": "markdown",
   "metadata": {},
   "source": [
    "## Extension activity"
   ]
  },
  {
   "cell_type": "markdown",
   "metadata": {},
   "source": [
    "The multi-threaded program from problem 4 is not entirely satisfactory, because it never exits.\n",
    "\n",
    "One way to fix this is to make the main thread a loop that does the following:\n",
    "* Check to see if a new item is available in the queue, but wait at most 1 second in doing so\n",
    "* If nothing was available after 1 second of waiting, check to see if any of the workers are still alive.  If not, then exit.  Otherwise, go back to waiting for an item to be available from the queue.\n",
    "\n",
    "Both of these can be done with the `threading` and `queue` modules.  The method `.get()` of a `queue.Queue` object accepts a keyword argument `timeout` which indicates that the function should wait for at most a certain number of seconds (e.g. `timeout=1`).  If nothing is available, it will raise an exception `queue.Empty`.\n",
    "\n",
    "The `threading.Thread` method `.is_alive()` discussed in problem 2 can then be used to check whether any worker threads are still running.\n",
    "\n",
    "Test your program by adjusting the amount of time the worker threads take to compute the square of a number (to make sure the `queue.Empty` exception is sometimes raised).\n",
    "\n",
    "In testing your program, it may be helpful to add a lot of extra `print()` statements that show what's happening in more detail, i.e. `print(\"Timeout waiting for item in results_queue\")` or `print(\"Some workers are still running.  Will go back to waiting for results.\")`."
   ]
  }
 ],
 "metadata": {
  "kernelspec": {
   "display_name": "Python 3",
   "language": "python",
   "name": "python3"
  },
  "language_info": {
   "codemirror_mode": {
    "name": "ipython",
    "version": 3
   },
   "file_extension": ".py",
   "mimetype": "text/x-python",
   "name": "python",
   "nbconvert_exporter": "python",
   "pygments_lexer": "ipython3",
   "version": "3.8.5"
  }
 },
 "nbformat": 4,
 "nbformat_minor": 4
}
