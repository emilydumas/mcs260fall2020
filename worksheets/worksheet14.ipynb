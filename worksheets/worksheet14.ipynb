{
 "cells": [
  {
   "cell_type": "markdown",
   "metadata": {},
   "source": [
    "# Worksheet 14\n",
    "\n",
    "## MCS 260 Fall 2020 - Emily Dumas"
   ]
  },
  {
   "cell_type": "markdown",
   "metadata": {},
   "source": [
    "## Instructions:\n",
    "* This worksheet is abbreviated due to the Thanksgiving holiday and the lack of a regular discussion this week.\n",
    "* Complete the problems below in preparation for Quiz 14 (which will also be shorter than usual).\n",
    "* Collaboration is strongly encouraged on Worksheets.\n",
    "* Test your work to make sure it does what is asked."
   ]
  },
  {
   "cell_type": "markdown",
   "metadata": {},
   "source": [
    "## Useful references\n",
    "\n",
    "These resources may be helpful while working on this worksheet.\n",
    "\n",
    "* GUI lectures:\n",
    "    * [Lecture 36](https://www.dumas.io/teaching/2020/fall/mcs260/slides/lecture36.html)\n",
    "    * [Lecture 38](https://www.dumas.io/teaching/2020/fall/mcs260/slides/lecture38.html)\n",
    "* Date/time lecture:\n",
    "    * [Lecture 37](https://www.dumas.io/teaching/2020/fall/mcs260/slides/lecture37.html)\n",
    "* [datetime module documentation](https://docs.python.org/3/library/datetime.html)\n",
    "* [TkDocs (documentation for Tk widgets)](https://tkdocs.com/tutorial/index.html)\n"
   ]
  },
  {
   "cell_type": "markdown",
   "metadata": {},
   "source": [
    "## Problem 1"
   ]
  },
  {
   "cell_type": "markdown",
   "metadata": {},
   "source": [
    "Use the `datetime` module to compute the number of seconds between 4:32am on September 18, 1982 and 8:45pm on December 8, 2020.  Assume these dates and times are in UTC, so that no issues of time zone changes or daylight saving time arise.  (That is, use naive `datetime.datetime` objects to do the computation.)"
   ]
  },
  {
   "cell_type": "markdown",
   "metadata": {},
   "source": [
    "## Problem 2"
   ]
  },
  {
   "cell_type": "markdown",
   "metadata": {},
   "source": [
    "Write a script to find and print all of the **Mondays** between February 9, 2016 and June 1, 2016.  The output should look like\n",
    "\n",
    "```\n",
    "Monday, February 8, 2016\n",
    "Monday, February 15, 2016\n",
    "...\n",
    "```\n",
    "\n",
    "The suggested way to do this is to use a `datetime.date` object and a while loop.  In the loop, add one day, and then check if the current date is a Monday or not.  The `datetime.date` object has a method called `.weekday()` which returns 0 for Monday, 1 for Tuesday, etc.."
   ]
  },
  {
   "cell_type": "markdown",
   "metadata": {},
   "source": [
    "## Problem 3"
   ]
  },
  {
   "cell_type": "markdown",
   "metadata": {},
   "source": [
    "Write a simple tkinter GUI program that shows a window with a 2x2 grid of buttons.  Three of the buttons should be labeled \"No\", and one of them should be labeled \"Yes\".  Pressing any of the buttons should exit the program.  But if the button pressed was the \"Yes\" button, then a message should be printed to the terminal reading \"Winner!\" before the program exits."
   ]
  }
 ],
 "metadata": {
  "kernelspec": {
   "display_name": "Python 3",
   "language": "python",
   "name": "python3"
  },
  "language_info": {
   "codemirror_mode": {
    "name": "ipython",
    "version": 3
   },
   "file_extension": ".py",
   "mimetype": "text/x-python",
   "name": "python",
   "nbconvert_exporter": "python",
   "pygments_lexer": "ipython3",
   "version": "3.8.5"
  }
 },
 "nbformat": 4,
 "nbformat_minor": 4
}
