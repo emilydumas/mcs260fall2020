{
 "cells": [
  {
   "cell_type": "markdown",
   "metadata": {},
   "source": [
    "# Worksheet 7 solutions\n",
    "\n",
    "## MCS 260 Fall 2020 - Emily Dumas"
   ]
  },
  {
   "cell_type": "markdown",
   "metadata": {},
   "source": [
    "## Problem 1"
   ]
  },
  {
   "cell_type": "markdown",
   "metadata": {},
   "source": [
    "Here is a script that reads a file `integerlist.txt` that is supposed to contain a list of integers, one per line.  It prints:\n",
    "\n",
    "* The sum of the first five integers in the file\n",
    "* The sum of the last five integers in the file\n",
    "\n",
    "Note that to test this script, you'll need to save it to a `.py` file, and also create `integerlist.txt` in the same directory."
   ]
  },
  {
   "cell_type": "code",
   "execution_count": 1,
   "metadata": {},
   "outputs": [
    {
     "name": "stdout",
     "output_type": "stream",
     "text": [
      "Sum of first five: 15\n",
      "Sum of last five: 35\n"
     ]
    }
   ],
   "source": [
    "\"\"\"Sum of first and last five in data file\"\"\"\n",
    "\n",
    "fin = open(\"integerlist.txt\")\n",
    "L = [ int(line) for line in fin ]\n",
    "fin.close()\n",
    "\n",
    "first_five_sum = 0\n",
    "last_five_sum = 0\n",
    "for i in range(5):\n",
    "    first_five_sum += L[i]\n",
    "    last_five_sum += L[-i-1]\n",
    "    \n",
    "print(\"Sum of first five: {}\".format(first_five_sum))\n",
    "print(\"Sum of last five: {}\".format(last_five_sum))"
   ]
  },
  {
   "cell_type": "markdown",
   "metadata": {},
   "source": [
    "But there are some problems with this script.  It is not robust against various common errors, such as a missing or unreadable file, or malformed data in the file.\n",
    "\n",
    "**Modify the script so that it can handle**\n",
    "* The file `integerlist.txt` being missing or inaccessible\n",
    "* The file containing too little data, e.g. if its contents are\n",
    "```\n",
    "10\n",
    "12\n",
    "```\n",
    "* The file containing lines that cannot be converted to integers, e.g.\n",
    "```\n",
    "Shark\n",
    "Laser\n",
    "10000\n",
    "```\n",
    "\n",
    "without exiting due to an uncaught exception.  Instead it should print an informative message about what went wrong, and then exit."
   ]
  },
  {
   "cell_type": "markdown",
   "metadata": {},
   "source": [
    "## Problem 1 solution"
   ]
  },
  {
   "cell_type": "code",
   "execution_count": null,
   "metadata": {},
   "outputs": [],
   "source": [
    "'''Opens a file named integerlist.txt, and returns the sum of the first five and last\n",
    "five integers. Prints a useful error message if the file cannot be found, insufficent\n",
    "data is present in the file, or if any line cannot be interpreted as an integer.'''\n",
    "\n",
    "try:\n",
    "    fin = open(\"integerlist.txt\")\n",
    "    L = [ int(line) for line in fin ]\n",
    "    fin.close()\n",
    "    first_five_sum = 0\n",
    "    last_five_sum = 0\n",
    "    for i in range(5):\n",
    "        first_five_sum += L[i]\n",
    "        last_five_sum += L[-i-1]\n",
    "    \n",
    "    print(\"Sum of first five: {}\".format(first_five_sum))\n",
    "    print(\"Sum of last five: {}\".format(last_five_sum))\n",
    "except OSError as e:\n",
    "    # Problem opening or reading file\n",
    "    print(\"Unable to read data from integerlist.txt:\\n\",e)\n",
    "except ValueError as e:\n",
    "    # Unable to convert a line to an integer\n",
    "    print(\"Malformed data in file:\\n\",e)\n",
    "except IndexError as e:\n",
    "    # L has length less than 5, because L[i] failed for some i in 0..4\n",
    "    print(\"Insufficient data present, need at least 5 integers in text file, found {}.\".format(len(L)))\n"
   ]
  },
  {
   "cell_type": "markdown",
   "metadata": {},
   "source": [
    "## Problem 2"
   ]
  },
  {
   "cell_type": "markdown",
   "metadata": {},
   "source": [
    "Here is a script with no docstrings, no comments, and cryptic variable names.  Determine what it does.  Then add docstrings, comments, and choose better variable names.\n",
    "\n",
    "Finally, write a short README.txt file that describes the script's function in more detail than the docstring."
   ]
  },
  {
   "cell_type": "code",
   "execution_count": null,
   "metadata": {
    "scrolled": true
   },
   "outputs": [],
   "source": [
    "import sys\n",
    "\n",
    "a = \"abcdefghijklmnopqrstuvwxyz\"\n",
    "b = \"nopqrstuvwxyzabcdefghijklm\"\n",
    "\n",
    "def c(x):\n",
    "    if x in a:\n",
    "        return b[a.index(x)]\n",
    "    else:\n",
    "        return x\n",
    "\n",
    "def d(f):\n",
    "    return \"\".join([c(e) for e in f])\n",
    "\n",
    "print(d(\" \".join(sys.argv[1:])))"
   ]
  },
  {
   "cell_type": "markdown",
   "metadata": {},
   "source": [
    "The first step will of course be to experiment with the script.  Save it to a file `rotate.py` and then try:\n",
    "```\n",
    "python rotate.py hello world\n",
    "python rotate.py uryyb jbeyq\n",
    "```"
   ]
  },
  {
   "cell_type": "markdown",
   "metadata": {},
   "source": [
    "## Problem 2 solution"
   ]
  },
  {
   "cell_type": "markdown",
   "metadata": {},
   "source": [
    "### Ideal README.txt\n",
    "\n",
    "This program takes a series of words as command line arguments and peforms certain substitutions on the lower-case alphabet letters in these words.  All other characters are left unchanged.  The resulting words are then printed to the terminal, separated by single spaces.\n",
    "\n",
    "The specific substitution pattern is as follows:  Each lower-case alphabet character is shifted forward in the alphabet by 13 positions.  Thus 'a' (index 0) becomes 'n' (index 13).  If shifting forward moves past the end of the alphabet, we wrap around and return to the beginning.  Equivalently we increase the index by 13 but then take the remainder when diving by 26.  So, for example, 's' (letter 18) becomes 'f' (letter 5) because 18+13 == 31 and 31 % 26 == 5.  Because of the wrap-around behavior of this process, we say the letter is *rotated* by 13 positions.\n",
    "\n",
    "Because 13+13 == 26, applying this substitution twice in succession will return a word to its original form.  In this way, the program serves to both \"encode\" and \"decode\" words, as these operations are the same.\n"
   ]
  },
  {
   "cell_type": "code",
   "execution_count": null,
   "metadata": {},
   "outputs": [],
   "source": [
    "'''Shifts the lower case letters in the string by 13 characters'''\n",
    "import sys\n",
    "\n",
    "alphabet_chars = \"abcdefghijklmnopqrstuvwxyz\" # characters to be substituted\n",
    "sub_key =        \"nopqrstuvwxyzabcdefghijklm\" # table of replacements\n",
    "\n",
    "def rotate_single_char(x):\n",
    "    \"\"\"Rotates lower case letters by 13 places in alphabet, leaving\n",
    "    all other characters unchanged.\n",
    "    \"\"\"\n",
    "    if x in alphabet_chars:\n",
    "        return sub_key[alphabet_chars.index(x)]\n",
    "    else:\n",
    "        return x\n",
    "\n",
    "def rotate_string(s):\n",
    "    \"\"\"Appends text to be encoded via substitution cypher\"\"\"\n",
    "    return \"\".join([rotate_single_char(c) for c in s])\n",
    "\n",
    "print(rotate_string(\" \".join(sys.argv[1:])))"
   ]
  },
  {
   "cell_type": "markdown",
   "metadata": {},
   "source": [
    "## Problem 3"
   ]
  },
  {
   "cell_type": "markdown",
   "metadata": {},
   "source": [
    "Write a function `common(s,t)` that returns True if the strings `s` and `t` have the same letter at some index, e.g."
   ]
  },
  {
   "cell_type": "code",
   "execution_count": 7,
   "metadata": {},
   "outputs": [
    {
     "data": {
      "text/plain": [
       "True"
      ]
     },
     "execution_count": 7,
     "metadata": {},
     "output_type": "execute_result"
    }
   ],
   "source": [
    "common(\"apple\",\"spring\") # True because both have \"p\" at index 1"
   ]
  },
  {
   "cell_type": "code",
   "execution_count": 9,
   "metadata": {},
   "outputs": [
    {
     "data": {
      "text/plain": [
       "False"
      ]
     },
     "execution_count": 9,
     "metadata": {},
     "output_type": "execute_result"
    }
   ],
   "source": [
    "common(\"heliotrope\",\"unsatisfying\") # False, no corresponding letters are the same"
   ]
  },
  {
   "cell_type": "markdown",
   "metadata": {},
   "source": [
    "There are lots of ways to solve this problem.  Once you have a working solution, make sure you can write a one-line solution that uses some of the constructs from Lecture 18: `any`, `all`, `zip`"
   ]
  },
  {
   "cell_type": "markdown",
   "metadata": {},
   "source": [
    "## Problem 3 solution"
   ]
  },
  {
   "cell_type": "code",
   "execution_count": null,
   "metadata": {},
   "outputs": [],
   "source": [
    "def common(s,t):\n",
    "    '''Returns true if two strings have the same letter in the same position'''\n",
    "    return any( [ c==d for c,d in zip(s,t) ] )"
   ]
  },
  {
   "cell_type": "markdown",
   "metadata": {},
   "source": [
    "## Problem 4"
   ]
  },
  {
   "cell_type": "markdown",
   "metadata": {},
   "source": [
    "Write a function `divisor_chain(L)` that takes a list `L` of positive integers and returns True if each integer in the list divides the next one, e.g."
   ]
  },
  {
   "cell_type": "code",
   "execution_count": 7,
   "metadata": {},
   "outputs": [
    {
     "data": {
      "text/plain": [
       "True"
      ]
     },
     "execution_count": 7,
     "metadata": {},
     "output_type": "execute_result"
    }
   ],
   "source": [
    "divisor_chain([2,6,24,240])"
   ]
  },
  {
   "cell_type": "code",
   "execution_count": 8,
   "metadata": {},
   "outputs": [
    {
     "data": {
      "text/plain": [
       "False"
      ]
     },
     "execution_count": 8,
     "metadata": {},
     "output_type": "execute_result"
    }
   ],
   "source": [
    "divisor_chain([9,18,32,64])  # False, 18 does not divide 32"
   ]
  },
  {
   "cell_type": "markdown",
   "metadata": {},
   "source": [
    "## Problem 4 solution"
   ]
  },
  {
   "cell_type": "code",
   "execution_count": 6,
   "metadata": {},
   "outputs": [],
   "source": [
    "def divisor_chain(L):\n",
    "    '''Returns True if all the immediate ajacent elements of a list are divisible'''\n",
    "    T = zip(L,L[1:])  # iterable that gives pairs (L[0],L[1]), (L[1],L[2]), ... \n",
    "    return all( [ divides(i,j) for i,j in T ] )\n",
    "    \n",
    "def divides(a,b):\n",
    "    '''Return True if a divides b'''\n",
    "    return (b % a) == 0"
   ]
  },
  {
   "cell_type": "markdown",
   "metadata": {},
   "source": [
    "## Problem 5"
   ]
  },
  {
   "cell_type": "markdown",
   "metadata": {},
   "source": [
    "This is a more open-ended problem about text processing.  The following string contains a secret message:"
   ]
  },
  {
   "cell_type": "code",
   "execution_count": 3,
   "metadata": {},
   "outputs": [
    {
     "name": "stdout",
     "output_type": "stream",
     "text": [
      "The problem as I see it is the lack of a mechanism to limit the number of sharks with access to laser weapons in the university research lab.  However, I admit that I have no better idea about how to conduct the necessary research.\n"
     ]
    }
   ],
   "source": [
    "s = \"The problem as I see it is the lack of a mechanism to limit the number of sharks with access to laser weapons in the university research lab.  However, I admit that I have no better idea about how to conduct the necessary research.\"\n",
    "print(s)"
   ]
  },
  {
   "cell_type": "markdown",
   "metadata": {},
   "source": [
    "To extract the secret message, you take characters starting at index 25 and moving in steps of 46:"
   ]
  },
  {
   "cell_type": "code",
   "execution_count": 2,
   "metadata": {},
   "outputs": [
    {
     "data": {
      "text/plain": [
       "'south'"
      ]
     },
     "execution_count": 2,
     "metadata": {},
     "output_type": "execute_result"
    }
   ],
   "source": [
    "s[25::46]"
   ]
  },
  {
   "cell_type": "markdown",
   "metadata": {},
   "source": [
    "Make your own secret message like this as follows:  Write a paragraph of text and store it in a string `s`.  Make sure its length is at least 200 characters.  Now, search for an offset `i` and stride `j` so that `s[i::j]` is a word.\n",
    "    \n",
    "To check that something is a word, you might use the word list from:\n",
    "\n",
    "* [5000 common english words](https://raw.githubusercontent.com/MichaelWehar/Public-Domain-Word-Lists/master/5000-more-common.txt)"
   ]
  },
  {
   "cell_type": "markdown",
   "metadata": {},
   "source": [
    "## Problem 5 solution"
   ]
  },
  {
   "cell_type": "code",
   "execution_count": null,
   "metadata": {},
   "outputs": [],
   "source": [
    "'''Search through a string and determine whether words in a dictionary can be\n",
    "located by stepping through with a certain stride\n",
    "'''\n",
    "\n",
    "# Here is my sample paragraph\n",
    "s = \"Thank you for your email.  We don't really have a way to provide the requested defensive equipment to students or faculty working in the shark lab, but we have been able to provide sunglasses.  We invite comments about the effectiveness of this solution.\"\n",
    "\n",
    "words = [ line.strip() for line in open(\"5000-more-common.txt\", \"r\") ]\n",
    "\n",
    "# It is easy to find very short words, so here we will only print words\n",
    "# with 5 or more letters.\n",
    "for i in range(len(s)):\n",
    "    for j in range(1,len(s)):\n",
    "        w = s[i::j]\n",
    "        if len(w) < 5:\n",
    "            continue\n",
    "        if w in words:\n",
    "            print(\"Word '{}' is found by starting at index {} and taking steps of size {}.\".format(w,i,j))\n",
    "\n"
   ]
  },
  {
   "cell_type": "markdown",
   "metadata": {},
   "source": [
    "Sample output:\n",
    "\n",
    "```\n",
    "$ python snip.py\n",
    "Word 'notice' is found by starting at index 96 and taking steps of size 27.\n",
    "$\n",
    "```\n",
    "\n"
   ]
  }
 ],
 "metadata": {
  "kernelspec": {
   "display_name": "Python 3",
   "language": "python",
   "name": "python3"
  },
  "language_info": {
   "codemirror_mode": {
    "name": "ipython",
    "version": 3
   },
   "file_extension": ".py",
   "mimetype": "text/x-python",
   "name": "python",
   "nbconvert_exporter": "python",
   "pygments_lexer": "ipython3",
   "version": "3.8.2"
  }
 },
 "nbformat": 4,
 "nbformat_minor": 4
}
