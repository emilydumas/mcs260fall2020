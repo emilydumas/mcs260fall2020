{
 "cells": [
  {
   "cell_type": "markdown",
   "metadata": {},
   "source": [
    "# Worksheet 6"
   ]
  },
  {
   "cell_type": "markdown",
   "metadata": {},
   "source": [
    "## Instructions:\n",
    "* Complete the problems below in preparation for Quiz 6.\n",
    "* When working in discussion, please have someone in your work group share a screen.\n",
    "* Test your work to make sure it does what is asked!\n",
    "* While the Tue/Thu discussion meetings provided some dedicated time to work on these problems, completing all of these problems will take most students more than two hours.  This is expected, and the worksheet is meant to give you a good amount of total practice for one week.\n"
   ]
  },
  {
   "cell_type": "markdown",
   "metadata": {},
   "source": [
    "## Problem 1"
   ]
  },
  {
   "cell_type": "markdown",
   "metadata": {},
   "source": [
    "Write a script that takes one command-line argument, an integer `days`, and prints a sign that looks like this:\n",
    "```\n",
    "*--------------------------------------------------*\n",
    "|  36 days since the last keyboard/coffee accident |\n",
    "*--------------------------------------------------*\n",
    "```\n",
    "but with the integer `36` replaced by `days`.  Leave room for `days` to have up to 3 digits, and make sure that the second line has a space after the first `|`.  The \"text frame\" around the sign should line up properly even if `days` has only one or two digits.\n",
    "\n",
    "**Use `str.format` for string formatting**"
   ]
  },
  {
   "cell_type": "markdown",
   "metadata": {},
   "source": [
    "## Problem 2"
   ]
  },
  {
   "cell_type": "markdown",
   "metadata": {},
   "source": [
    "Download this public domain list of 5000 common english words, and save it in a place where you'll prepare a script.\n",
    "\n",
    "* [5000 common english words](https://raw.githubusercontent.com/MichaelWehar/Public-Domain-Word-Lists/master/5000-more-common.txt)\n",
    "\n",
    "Now, write a script that reads this list and determines which are the longest words that can be typed using only the following characters:\n",
    "```\n",
    "qwertasdfgzxcvb\n",
    "```\n",
    "\n",
    "These are the characters typed with the left hand in the usual conventions for touch typing on an en-us keyboard layout.\n",
    "\n",
    "Thus your script will find the longest word(s) that only use the left hand, i.e. \"left-hand words\".\n",
    "\n",
    "A first version of your solution can ignore ties.  In a second version, refine your program so it prints all left-handed words of maximum length."
   ]
  },
  {
   "cell_type": "markdown",
   "metadata": {},
   "source": [
    "## Problem 3"
   ]
  },
  {
   "cell_type": "markdown",
   "metadata": {},
   "source": [
    "The following script was an example in Lecture 14 of using a stack.  It checks for mismatched parentheses and prints a useful error message."
   ]
  },
  {
   "cell_type": "code",
   "execution_count": null,
   "metadata": {},
   "outputs": [],
   "source": [
    "\"\"\"Check arithmetic expression for balanced parentheses\"\"\"\n",
    "# MCS 260 Fall 2020 Lecture 14 - Emily Dumas\n",
    "\n",
    "print(\"Enter an arithmetic expression in parentheses:\")\n",
    "s = input().strip()\n",
    "\n",
    "paren_stack = []\n",
    "for i,c in enumerate(s):\n",
    "    if c == \"(\":\n",
    "        paren_stack.append(i)\n",
    "    elif c == \")\":\n",
    "        if len(paren_stack) == 0:\n",
    "            # Too many right parentheses\n",
    "            print(\"ERROR: Extra right parenthesis\")\n",
    "            print(s)\n",
    "            print(i*\" \" + \"^\")\n",
    "            break\n",
    "        paren_stack.pop()\n",
    "\n",
    "if len(paren_stack) > 0:\n",
    "    # Unclosed left parenthesis\n",
    "    i = paren_stack.pop()  # Where was the left paren that's open?\n",
    "    print(\"ERROR: Unclosed parenthesis\")\n",
    "    print(s)\n",
    "    print(i*\" \" + \"^\")"
   ]
  },
  {
   "cell_type": "markdown",
   "metadata": {},
   "source": [
    "Modify this script so that instead of finding errors, it assumes the input is a valid expression and it locates and prints all matching pairs of parentheses.  For example, if given input\n",
    "\n",
    "```\n",
    "( (1-2) + (4 - (5+6)) )\n",
    "```\n",
    "then it might print:\n",
    "```\n",
    "Matching pairs of parentheses:\n",
    "( (1-2) + (4 - (5+6)) )\n",
    "  ^   ^\n",
    "\n",
    "( (1-2) + (4 - (5+6)) )\n",
    "               ^   ^\n",
    "\n",
    "( (1-2) + (4 - (5+6)) )\n",
    "          ^         ^\n",
    "\n",
    "( (1-2) + (4 - (5+6)) )\n",
    "^                     ^\n",
    "```\n",
    "The order in which the output is printed doesn't matter, but the order above is the result of the most straightforward way to solve the problem."
   ]
  },
  {
   "cell_type": "markdown",
   "metadata": {},
   "source": [
    "## Problem 4"
   ]
  },
  {
   "cell_type": "markdown",
   "metadata": {},
   "source": [
    "Write a function `agree(f,g,L)` that takes two functions `f` and `g` (each of a single argument) and a list `L` and returns a list of all values from `L` at which `f` and `g` return the same value.\n",
    "\n",
    "Here are some test cases, all of which should evaluate to True:"
   ]
  },
  {
   "cell_type": "code",
   "execution_count": null,
   "metadata": {},
   "outputs": [],
   "source": [
    "def f1(x):\n",
    "    \"\"\"linear function\"\"\"\n",
    "    return x+1\n",
    "\n",
    "def f2(x):\n",
    "    \"\"\"quadratic function\"\"\"\n",
    "    return 7-x*x\n",
    "\n",
    "agree(f1,f2,[1,2,3,4]) == [2]"
   ]
  },
  {
   "cell_type": "code",
   "execution_count": null,
   "metadata": {},
   "outputs": [],
   "source": [
    "def f3(x):\n",
    "    \"\"\"identity function\"\"\"\n",
    "    return x\n",
    "\n",
    "def f4(x):\n",
    "    \"\"\"level off at 3\"\"\"\n",
    "    if x>3:\n",
    "        return 3\n",
    "    else:\n",
    "        return x\n",
    "\n",
    "agree(f3,f4,[0.5,1,1.5,2,2.5,3,3.5,4,4.5,5]) == [0.5, 1, 1.5, 2, 2.5, 3]"
   ]
  }
 ],
 "metadata": {
  "kernelspec": {
   "display_name": "Python 3",
   "language": "python",
   "name": "python3"
  },
  "language_info": {
   "codemirror_mode": {
    "name": "ipython",
    "version": 3
   },
   "file_extension": ".py",
   "mimetype": "text/x-python",
   "name": "python",
   "nbconvert_exporter": "python",
   "pygments_lexer": "ipython3",
   "version": "3.8.2"
  }
 },
 "nbformat": 4,
 "nbformat_minor": 4
}
