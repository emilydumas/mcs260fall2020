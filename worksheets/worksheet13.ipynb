{
 "cells": [
  {
   "cell_type": "markdown",
   "metadata": {},
   "source": [
    "# Worksheet 13\n",
    "\n",
    "## MCS 260 Fall 2020 - Emily Dumas"
   ]
  },
  {
   "cell_type": "markdown",
   "metadata": {},
   "source": [
    "## Instructions:\n",
    "* Complete the problems below in preparation for Quiz 13.\n",
    "* Collaboration is strongly encouraged on Worksheets.\n",
    "* Attending Tue/Thu discussion is very important to get the most practice with these concepts.\n",
    "* Test your work to make sure it does what is asked."
   ]
  },
  {
   "cell_type": "markdown",
   "metadata": {},
   "source": [
    "## Prerequisites\n",
    "\n",
    "The main topics covered in the worksheet are:\n",
    "* Making requests with `urllib`\n",
    "* Making APIs with Flask\n",
    "\n",
    "Before you work on these problems, you need to install Flask on your computer.  [Lecture 35](https://dumas.io/teaching/2020/fall/mcs260/slides/lecture35.html#/3) has details about how to do this."
   ]
  },
  {
   "cell_type": "markdown",
   "metadata": {},
   "source": [
    "## Problem 1"
   ]
  },
  {
   "cell_type": "markdown",
   "metadata": {},
   "source": [
    "**This problem doesn't involve material from last week's lectures, but it prepares you for the next ones.**\n",
    "\n",
    "Imagine you are writing a program that will distribute a limited resource, such as access to computers to perform calculations.  You must make sure that you don't overcommit the resource.\n",
    "\n",
    "One way to do this is to hand out tickets that are redeemable for resources, and to make sure there is a limited supply of tickets.\n",
    "\n",
    "Create something like this as follows.\n",
    "\n",
    "First, make a global list variable `tickets` that contains 10 integers.  Choose these integers yourself, using any method you like.  Just make sure they are all different.\n",
    "\n",
    "Now, write a function `get_ticket()` that, when called, will remove and return an integer from `tickets`, if the list is nonempty.  But if the list is empty, your function should raise `Exception(\"No tickets available\")`\n",
    "\n",
    "Below is some test code that you could append to your script to test the operation of the `get_ticket()` function."
   ]
  },
  {
   "cell_type": "code",
   "execution_count": null,
   "metadata": {},
   "outputs": [],
   "source": [
    "#------------------------------------------------------------\n",
    "# Your initial ticket list and code for get_ticket() go here!\n",
    "# This code won't work until you add them.\n",
    "#------------------------------------------------------------\n",
    "\n",
    "for i in range(10):\n",
    "    print(\"Ticket request {} yielded {}\".format(i+1,get_ticket()))\n",
    "\n",
    "print(\"Requesting another ticket.  THIS SHOULD FAIL...\")\n",
    "get_ticket()"
   ]
  },
  {
   "cell_type": "markdown",
   "metadata": {},
   "source": [
    "**The output should look something like this:**\n",
    "\n",
    "```\n",
    "Ticket request 1 yielded 220\n",
    "Ticket request 2 yielded 19238\n",
    "Ticket request 3 yielded 9502\n",
    "Ticket request 4 yielded 12378\n",
    "Ticket request 5 yielded 837465\n",
    "Ticket request 6 yielded 10002\n",
    "Ticket request 7 yielded 132789\n",
    "Ticket request 8 yielded 1991\n",
    "Ticket request 9 yielded 37891\n",
    "Ticket request 10 yielded 712\n",
    "Requesting another ticket.  THIS SHOULD FAIL...\n",
    "---------------------------------------------------------------------------\n",
    "Exception                                 Traceback (most recent call last)\n",
    "<ipython-input-2-38548a2f63fe> in <module>\n",
    "     11 \n",
    "     12 print(\"Requesting another ticket.  THIS SHOULD FAIL...\")\n",
    "---> 13 get_ticket()\n",
    "\n",
    "<ipython-input-2-38548a2f63fe> in get_ticket()\n",
    "      5         return L.pop()\n",
    "      6     else:\n",
    "----> 7         raise Exception(\"No tickets available\")\n",
    "      8 \n",
    "      9 for i in range(10):\n",
    "\n",
    "Exception: No tickets available\n",
    "```"
   ]
  },
  {
   "cell_type": "markdown",
   "metadata": {},
   "source": [
    "## Problem 2"
   ]
  },
  {
   "cell_type": "markdown",
   "metadata": {},
   "source": [
    "**This problem builds on problem 1 and prepares for problem 3.**\n",
    "\n",
    "Building on the code you created in the previous problem, write an API with Flask so that when it runs on your computer, accessing\n",
    "\n",
    "```\n",
    "http://localhost:5000/ticket\n",
    "```\n",
    "\n",
    "will attempt to get a ticket and return JSON as follows:\n",
    "\n",
    "* If a ticket was available, the JSON object looks like\n",
    "```\n",
    "{ \"success\": true, \"ticket_number\": 2602020 }\n",
    "```\n",
    "\n",
    "* If no tickets were available, the JSON object looks like\n",
    "```\n",
    "{ \"success\": false }\n",
    "```\n",
    "\n",
    "Test the API by visiting `http://localhost:5000/ticket` in a web browser on your computer and reloading at least 10 times."
   ]
  },
  {
   "cell_type": "markdown",
   "metadata": {},
   "source": [
    "## Problem 3"
   ]
  },
  {
   "cell_type": "markdown",
   "metadata": {},
   "source": [
    "Building on problem 2, write a program that uses `urllib` to connect to the API you created, request a ticket, and either print the ticket number or an error message.\n",
    "\n",
    "Call your program `get_ticket.py`.  Before testing it, restart the API from problem 2.  If your program is working correctly, then running it in the terminal should produce output similar to the following:\n",
    "\n",
    "* First time it is run\n",
    "```\n",
    "PS C:\\Users\\ddumas\\Desktop\\> python get_ticket.py\n",
    "Success.  Got ticket 8675310.\n",
    "```\n",
    "\n",
    "* Eleventh time it is run (assuming you don't restart the API server)\n",
    "```\n",
    "PS C:\\Users\\ddumas\\Desktop\\> python get_ticket.py\n",
    "Failed to get a ticket from the API.\n",
    "```\n",
    "\n",
    "It's probably a good idea to have two powershell windows open here, or two terminals in VS code, or one of each.  That will allow you to manage running the API and the program that calls the API."
   ]
  },
  {
   "cell_type": "markdown",
   "metadata": {},
   "source": [
    "## Extensions"
   ]
  },
  {
   "cell_type": "markdown",
   "metadata": {},
   "source": [
    "If you complete the problems above, extend the API as follows:\n",
    "\n",
    "* Add another route to the api, `/reset`, which will put all the tickets back in the list, equivalent to restarting the API.  (This means you'll need to keep track of tickets that have been given out.)\n",
    "* Add a route `/tickets/available` that returns the number of tickets that are available.\n",
    "* Challenge: Make it so that tickets can be returned with API calls, too.  For example the route `/ticket/return/531` would return ticket 531 to the list, and similarly for any other positive integer.  You'll need to [read about including variable parts in routes](https://flask.palletsprojects.com/en/1.1.x/api/#url-route-registrations) in the Flask documentation to make this work."
   ]
  },
  {
   "cell_type": "code",
   "execution_count": null,
   "metadata": {},
   "outputs": [],
   "source": []
  }
 ],
 "metadata": {
  "kernelspec": {
   "display_name": "Python 3",
   "language": "python",
   "name": "python3"
  },
  "language_info": {
   "codemirror_mode": {
    "name": "ipython",
    "version": 3
   },
   "file_extension": ".py",
   "mimetype": "text/x-python",
   "name": "python",
   "nbconvert_exporter": "python",
   "pygments_lexer": "ipython3",
   "version": "3.8.5"
  }
 },
 "nbformat": 4,
 "nbformat_minor": 4
}
