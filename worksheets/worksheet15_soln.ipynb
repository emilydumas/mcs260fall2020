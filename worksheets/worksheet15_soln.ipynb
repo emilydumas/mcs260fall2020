{
 "cells": [
  {
   "cell_type": "markdown",
   "metadata": {},
   "source": [
    "# Worksheet 15 Solutions\n",
    "\n",
    "## MCS 260 Fall 2020"
   ]
  },
  {
   "cell_type": "markdown",
   "metadata": {},
   "source": [
    "## Problem 1"
   ]
  },
  {
   "cell_type": "markdown",
   "metadata": {},
   "source": [
    "Write a program that uses the `threading` module to start a second thread.  The second thread should do the following:\n",
    "* Print the numbers 30, 29, 28, ..., one per second, to the terminal.  Use `time.sleep(1)` to generate the delays.\n",
    "\n",
    "Meanwhile, the main thread should do the following:\n",
    "* Print a message \"Type the entire alphabet and press enter\"\n",
    "* Wait for the user to enter a line of input\n",
    "* Compare the input to \"abcdefghijklmnopqrstuvwxyz\".  If it is equal, print \"Good job!\".  If it is not equal, print \"Better luck next time.\"\n",
    "\n",
    "Test the program.  What happens if you take less than 30 seconds to enter a string?  Does the program exit immediately?"
   ]
  },
  {
   "cell_type": "markdown",
   "metadata": {},
   "source": [
    "## Problem 1 solution"
   ]
  },
  {
   "cell_type": "code",
   "execution_count": null,
   "metadata": {},
   "outputs": [],
   "source": [
    "\"\"\"\n",
    "Wait for user to type alphabet, with a timer in a separate thread\n",
    "\"\"\"\n",
    "import threading\n",
    "import time\n",
    "\n",
    "# Worker thread function\n",
    "def countdown():\n",
    "    for i in range(30):\n",
    "        print(30-i)\n",
    "        time.sleep(1)\n",
    "    print(0)\n",
    "\n",
    "# Start the countdown thread\n",
    "countdown_thread = threading.Thread(target=countdown)\n",
    "countdown_thread.start()\n",
    "\n",
    "g = input(\"Type the entire alphabet and press enter.\\n\")\n",
    "# We ignore case, so \"ABC...\" is also ok.  That is optional.\n",
    "if g.lower() == 'abcdefghijklmnopqrstuvwxyz':\n",
    "    print(\"Good Job\")\n",
    "else:\n",
    "    print(\"Better luck next time\")"
   ]
  },
  {
   "cell_type": "markdown",
   "metadata": {},
   "source": [
    "## Problem 2"
   ]
  },
  {
   "cell_type": "markdown",
   "metadata": {},
   "source": [
    "In Python, each `threading.Thread` object has a method called `.is_alive()` which returns a boolean indicating whether the thread is still alive.  That is, it returns True if the thread is running, False if it has exited.\n",
    "\n",
    "Modify the program from problem 1 as follows:\n",
    "* Make the countdown thread a daemon thread (so it is terminated when the main thread is done)\n",
    "* After reading the line of input, the main thread should check whether the countdown thread is still alive.  If it is, it should print the same message as before (\"Good job!\" or \"Better luck next time.\").  If it is not, meaning that at least 30 seconds elapsed, it should print \"Time ran out.\""
   ]
  },
  {
   "cell_type": "markdown",
   "metadata": {},
   "source": [
    "## Problem 2 solution"
   ]
  },
  {
   "cell_type": "code",
   "execution_count": null,
   "metadata": {},
   "outputs": [],
   "source": [
    "\"\"\"\n",
    "Wait for user to type alphabet, with a timer in a separate thread\n",
    "\"\"\"\n",
    "import threading\n",
    "import time\n",
    "\n",
    "# Worker thread function\n",
    "def countdown():\n",
    "    for i in range(10):\n",
    "        print(10-i)\n",
    "        time.sleep(1)\n",
    "\n",
    "# Start the countdown thread\n",
    "# We could add daemon=True in the Thread constructor to make\n",
    "# the program exit when the main thread is done.  As is, it\n",
    "# will not exit until the countdown is complete.\n",
    "countdown_thread = threading.Thread(target=countdown,daemon=True)\n",
    "countdown_thread.start()\n",
    "\n",
    "g = input(\"Type the entire alphabet and press enter.\\n\")\n",
    "\n",
    "if not countdown_thread.is_alive():\n",
    "    print(\"Time ran out.\")\n",
    "elif g.lower() == 'abcdefghijklmnopqrstuvwxyz':\n",
    "    print(\"Good Job\")\n",
    "else:\n",
    "    print(\"Better luck next time\")"
   ]
  },
  {
   "cell_type": "markdown",
   "metadata": {},
   "source": [
    "## Problem 3"
   ]
  },
  {
   "cell_type": "markdown",
   "metadata": {},
   "source": [
    "Write a tkinter GUI program called `squares.py`.  The interface should have a slider and a read-only entry widget.  The slider should allow the user to select an integer between 0 and 30.  The entry widget should display a statement about the square of the current value of the slider, like `7**2 = 49` if the current slider value is `5`.  The final GUI might look like this:\n",
    "\n",
    "![Screenshot of squares GUI](squares-screenshot.png)\n",
    "\n",
    "(The exact appearance will vary depending on the platform you use, i.e. Windows, MacOS, Linux, ...)"
   ]
  },
  {
   "cell_type": "markdown",
   "metadata": {},
   "source": [
    "## Problem 3 Solution"
   ]
  },
  {
   "cell_type": "code",
   "execution_count": null,
   "metadata": {},
   "outputs": [],
   "source": [
    "'''\n",
    "tkinter GUI for the function f(x) = x**2\n",
    "'''\n",
    "\n",
    "import tkinter\n",
    "import tkinter.ttk\n",
    "\n",
    "class SquareApp(tkinter.Tk):\n",
    "    \"\"\"\n",
    "    Squaring GUI main window\n",
    "    \"\"\"\n",
    "    def __init__(self,name=\"Squares\"):\n",
    "        super().__init__()\n",
    "        self.title(name)\n",
    "\n",
    "        self.n = tkinter.IntVar()\n",
    "        # If we make self.n the variable for an Entry widget, it will\n",
    "        # display floats instead of ints, reflecting the fractional\n",
    "        # position of the slider.  To get ints, we write a callback\n",
    "        # to update the string in the Entry box.\n",
    "        self.n.trace_add(\"write\",lambda a,b,c:self.nchg())\n",
    "\n",
    "        # Inserts the scale into the GUI, with range 0 to 30\n",
    "        self.scale = tkinter.ttk.Scale(self,variable=self.n,from_=0,to=30,length=200) #,command=lambda x:self.update_scale_display())\n",
    "        self.scale.grid(row=0,column=0,sticky=\"ew\",padx=10,pady=10)\n",
    "\n",
    "        # Displays the result in an entry box\n",
    "        self.s = tkinter.StringVar()\n",
    "        self.scale_show =  tkinter.ttk.Entry(self,state=\"readonly\",textvariable=self.s,width=12)\n",
    "        self.scale_show.grid(row=0,column=1,sticky=\"w\",padx=10,pady=10)\n",
    "\n",
    "        self.nchg()\n",
    "    \n",
    "    def nchg(self):\n",
    "        \"\"\"Callback when input value n has changed, to update the output string\"\"\"\n",
    "        n=self.n.get()\n",
    "        self.s.set(\"{}**2 = {}\".format(n,n**2))\n",
    "\n",
    "# Create and start the main window\n",
    "app = SquareApp()\n",
    "app.mainloop()\n"
   ]
  },
  {
   "cell_type": "markdown",
   "metadata": {},
   "source": [
    "## Problem 4"
   ]
  },
  {
   "cell_type": "markdown",
   "metadata": {},
   "source": [
    "Modify the producer-consumer example program from lecture 39,\n",
    "\n",
    "* [workers_10am_fixed.py](https://github.com/emilydumas/mcs260fall2020/blob/master/samplecode/threads/workers_10am_fixed.py)\n",
    "* [workers_2pm_fixed.py](https://github.com/emilydumas/mcs260fall2020/blob/master/samplecode/threads/workers_2pm.py)\n",
    "\n",
    "in the following ways:\n",
    "\n",
    "* Have two queues: `job_queue` to send work to the workers, and `results_queue` that the workers use to send results back to the main thread.\n",
    "* Change the workers so they don't just print the job number.  Instead, they compute the square of the job number, wait a short time, and then send the square back to the main thread using `results_queue`.\n",
    "* After starting the workers, the main queue adds lots of jobs all at once.  Then it waits for results to be returned, displaying them as they arrive.  (It might print `Received result: 49` or something similar.)  Use `queue.Queue.get()` for this; this function will not return until a new item is available.\n",
    "\n",
    "For simplicity, in this problem you can write a program where the main thread will run forever, waiting for more results even after the last one has been received.  This allows you to not worry about monitoring the state of the worker threads so that the main thread can decide when to exit."
   ]
  },
  {
   "cell_type": "markdown",
   "metadata": {},
   "source": [
    "## Problem 4 solution"
   ]
  },
  {
   "cell_type": "code",
   "execution_count": null,
   "metadata": {
    "scrolled": false
   },
   "outputs": [],
   "source": [
    "\"\"\"Threading example with two queues to communicate with worker threads\"\"\"\n",
    "import threading\n",
    "import time\n",
    "import queue\n",
    "\n",
    "def worker_main(name,Q,R):\n",
    "    \"\"\"\n",
    "    Main function of the worker threads\n",
    "    `name` is the name of this thread\n",
    "    `Q` is the queue from which it takes jobs\n",
    "    `R` is the queue to which it submits results\n",
    "    \"\"\"\n",
    "    print(\"Worker {} starting\".format(name))\n",
    "    while True:\n",
    "        # Retrieve work from the queue (or block until available)\n",
    "        job = Q.get()\n",
    "        # Simulate this job taking some time\n",
    "        time.sleep(1)\n",
    "        result = job**2; # square the given number\n",
    "        print(\"Worker {} sending square of job {} back to main thread\\n\".format(name,job),flush=True)\n",
    "        R.put(result) # send the result back to the main thread\n",
    "\n",
    "job_queue = queue.Queue()\n",
    "results_queue = queue.Queue()\n",
    "\n",
    "workers = [ \n",
    "    threading.Thread(target=worker_main,args=(i,job_queue,results_queue)) for i in range(2)\n",
    "]\n",
    "for w in workers:\n",
    "    w.start()\n",
    "\n",
    "for i in range(10):\n",
    "    print(\"Main submitting job {} to the queue\".format(i))\n",
    "    job_queue.put(i)\n",
    "\n",
    "print(\"Main waiting for results...\")\n",
    "while True:\n",
    "    result = results_queue.get()\n",
    "    print(\"Main received result {}\".format(result),flush = True)"
   ]
  },
  {
   "cell_type": "markdown",
   "metadata": {},
   "source": [
    "## Problem 5"
   ]
  },
  {
   "cell_type": "markdown",
   "metadata": {},
   "source": [
    "Modify the program from Problem 3 so that there are two sliders, and so that the sliders are labeled.  One slider should be called `Base`, the other `Exponent`.  The Entry widget should show the computation of `b**k` where `b` is the base and `k` is the exponent.  For example, if the base slider is set to 5 and the exponent slider to 3, it would show `5**3 = 125`.\n",
    "\n",
    "Also add a button to quit the program that is shown below the rest of the interface, on the right hand side."
   ]
  },
  {
   "cell_type": "markdown",
   "metadata": {},
   "source": [
    "## Problem 5 solution"
   ]
  },
  {
   "cell_type": "code",
   "execution_count": null,
   "metadata": {},
   "outputs": [],
   "source": [
    "'''\n",
    "tkinter GUI for the function f(x,k) = x**k\n",
    "'''\n",
    "\n",
    "import tkinter\n",
    "import tkinter.ttk\n",
    "\n",
    "class PowerApp(tkinter.Tk):\n",
    "    \"\"\"\n",
    "    Power GUI main window\n",
    "    \"\"\"\n",
    "    def __init__(self,name=\"Powers\"):\n",
    "        super().__init__()\n",
    "        self.title(name)\n",
    "\n",
    "        self.n = tkinter.IntVar()\n",
    "        self.k = tkinter.IntVar()\n",
    "        self.n.trace_add(\"write\",lambda a,b,c:self.recalculate())\n",
    "        self.k.trace_add(\"write\",lambda a,b,c:self.recalculate())\n",
    "\n",
    "        self.base_label = tkinter.ttk.Label(self,text=\"Base\")\n",
    "        self.base_label.grid(row=0,column=0)\n",
    "\n",
    "        self.exponent_label = tkinter.ttk.Label(self,text=\"Exponent\")\n",
    "        self.exponent_label.grid(row=1,column=0)\n",
    "\n",
    "        # Slider for the base\n",
    "        self.base_scale = tkinter.ttk.Scale(self,variable=self.n,from_=0,to=30,length=200) #,command=lambda x:self.update_scale_display())\n",
    "        self.base_scale.grid(row=0,column=1,sticky=\"ew\",padx=10,pady=10)\n",
    "\n",
    "        # Slider for the exponent\n",
    "        self.exp_scale = tkinter.ttk.Scale(self,variable=self.k,from_=1,to=5,length=200) #,command=lambda x:self.update_scale_display())\n",
    "        self.exp_scale.grid(row=1,column=1,sticky=\"ew\",padx=10,pady=10)\n",
    "\n",
    "        # Displays the result in an entry box\n",
    "        self.s = tkinter.StringVar()\n",
    "        self.scale_show = tkinter.ttk.Entry(self,state=\"readonly\",textvariable=self.s,width=18)\n",
    "        self.scale_show.grid(row=0,column=2,sticky=\"ew\",padx=10,pady=10)\n",
    "\n",
    "        # Exit button\n",
    "        self.exit_button = tkinter.ttk.Button(self,text=\"Exit\",command=exit)\n",
    "        self.exit_button.grid(row=2,column=2,padx=10,pady=10,sticky=\"e\")\n",
    "\n",
    "        self.recalculate()\n",
    "\n",
    "    def recalculate(self):\n",
    "        \"\"\"Callback when one of the sliders changes\"\"\"\n",
    "        n=self.n.get()\n",
    "        k=self.k.get()\n",
    "        self.s.set(\"{}**{} = {}\".format(n,k,n**k))\n",
    "\n",
    "app = PowerApp()\n",
    "app.mainloop()"
   ]
  }
 ],
 "metadata": {
  "kernelspec": {
   "display_name": "Python 3",
   "language": "python",
   "name": "python3"
  },
  "language_info": {
   "codemirror_mode": {
    "name": "ipython",
    "version": 3
   },
   "file_extension": ".py",
   "mimetype": "text/x-python",
   "name": "python",
   "nbconvert_exporter": "python",
   "pygments_lexer": "ipython3",
   "version": "3.6.9"
  }
 },
 "nbformat": 4,
 "nbformat_minor": 4
}
