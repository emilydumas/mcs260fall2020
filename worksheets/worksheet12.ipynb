{
 "cells": [
  {
   "cell_type": "markdown",
   "metadata": {},
   "source": [
    "# Worksheet 12\n",
    "\n",
    "## MCS 260 Fall 2020 - Emily Dumas"
   ]
  },
  {
   "cell_type": "markdown",
   "metadata": {},
   "source": [
    "## Problem 1 (pytest)\n",
    "\n",
    "Here is a link to the `geom.py` module we developed in a previous lecture.  It allows you to represent Circles, Rectangles, and Squares in the plane and to perform some operations on them.\n",
    "\n",
    "* [geom.py](https://raw.githubusercontent.com/emilydumas/mcs260fall2020/master/samplecode/geom/geom.py)\n",
    "\n",
    "Download this file and save it in its own folder (e.g. `geomtesting` would be a good name for the folder).\n",
    "\n",
    "Now, create a file `test_geom.py` in the same folder that contains at least 4 tests for `geom.py` in the format expected by pytest.  That is, each test should be in a function whose name begins with `test_`.  Running this script with the python interpreter should do nothing, since it should only declare test functions, and should not call them.\n",
    "\n",
    "Run pytest and confirm that all of your tests are discovered, and that they all pass.\n",
    "\n",
    "Examples of suggested tests:\n",
    "* two Circle objects created to have the same center an radius compare as equal\n",
    "* two Rectangle objects created to have the same center, width, and height compare as equal\n",
    "* using the `.scale()` method of a specific Rectangle you choose for testing purposes gives the same results as what you expect based on computing by hand.\n",
    "* adding two example rectangles gives the same bounding box as you compute by hand.\n",
    "\n",
    "Note that the equality test for objects in `geom.py` is very fragile, because it tests floats for equality.  One way to avoid problems with floating point error is to choose examples where every value involved (width, height, center coordinates, radius, scale factor, etc.) is actually an integer."
   ]
  },
  {
   "cell_type": "markdown",
   "metadata": {},
   "source": [
    "## Prep for problems 2-5: Downloading data\n",
    "\n",
    "The rest of the worksheet requires data files you need to download.\n",
    "\n",
    "Download the following files and put them in a place where you can easily open them with the programs you'll write in this worksheet:\n",
    "\n",
    "* [inttable.csv](https://dumas.io/teaching/2020/fall/mcs260/sampledata/inttable.csv)\n",
    "* [uicscorecard.json](https://dumas.io/teaching/2020/fall/mcs260/sampledata/uicscorecard.json)\n",
    "\n",
    "Now, confirm you can open this file in a Python script.  Modify the code below as needed, either saving it to a file in the same directory as the data file downloaded above, or changing the filename in the code."
   ]
  },
  {
   "cell_type": "code",
   "execution_count": null,
   "metadata": {},
   "outputs": [],
   "source": [
    "\"\"\"Check that the worksheet 12 data files are accessible\"\"\"\n",
    "# To use this, save it to a script file on your computer.\n",
    "# Then run it from a terminal.\n",
    "import os\n",
    "\n",
    "# MAY NEED TO CHANGE THIS depending on where the CSV file is located:\n",
    "csv_filename = \"inttable.csv\"\n",
    "# e.g. might need something like csv_filename = r\"C:\\Users\\sramanaj\\Downloads\\inttable.csv\"\n",
    "\n",
    "if os.path.exists(csv_filename):\n",
    "    print(\"CSV file found successfully\")\n",
    "else:\n",
    "    print(\"PROBLEM: CSV file not found.  Either change `csv_filename` to include the path or move this script to another directory.\")\n",
    "\n",
    "# MAY NEED TO CHANGE THIS depending on where the JSON file is located:\n",
    "json_filename = \"uicscorecard.json\"\n",
    "# e.g. might need something like json_filename = r\"C:\\Users\\sramanaj\\Downloads\\uicscorecard.json\"\n",
    "\n",
    "if os.path.exists(csv_filename):\n",
    "    print(\"JSON file found successfully\")\n",
    "else:\n",
    "    print(\"PROBLEM: JSON file not found.  Either change `json_filename` to include the path or move this script to another directory.\")\n",
    "\n",
    "    "
   ]
  },
  {
   "cell_type": "markdown",
   "metadata": {},
   "source": [
    "## CSV data introduction\n",
    "\n",
    "**Read this before working on problems 2--3.**\n",
    "\n",
    "The file `inttable.csv` you downloaded contains 200 columns of data.  It was generated using a script written by the instructor.  There is a header row, followed by 1000 rows of data.  Each datum is a positive integer, but of course the `csv` module will return these as strings.\n",
    "\n",
    "Reminder: Since this CSV file has a header row, it is recommended to use a `csv.DictReader` object to read it."
   ]
  },
  {
   "cell_type": "markdown",
   "metadata": {},
   "source": [
    "## Problem 2 (CSV)"
   ]
  },
  {
   "cell_type": "markdown",
   "metadata": {},
   "source": [
    "\n",
    "One of the columns in the CSV file is called `fabric`.  Write a script to determine the largest integer in that column.\n",
    "\n",
    "Reminder: Since this CSV file has a header row, it is recommended to use a `csv.DictReader` object to read it."
   ]
  },
  {
   "cell_type": "markdown",
   "metadata": {},
   "source": [
    "## Problem 3 (CSV)"
   ]
  },
  {
   "cell_type": "markdown",
   "metadata": {},
   "source": [
    "Write a script to find the largest integer that appears in *any* column of `inttable.csv`, and to report which column it was found in.\n",
    "\n",
    "If there are ties (i.e. the largest number appears several times), report each one."
   ]
  },
  {
   "cell_type": "markdown",
   "metadata": {},
   "source": [
    "## JSON data introduction\n",
    "Read this before working on problems 4--5.\n",
    "\n",
    "The file `uicscorecard.json` you downloaded was obtained from a query submitted to the US Department of Education's College Scorecard API:\n",
    "\n",
    "* https://collegescorecard.ed.gov/data/documentation/\n",
    "\n",
    "The query requested information about the University of Illinois at Chicago.  The resulting JSON file contains certain information compiled by the Department of Education about UIC between 1998 and 2018.\n",
    "\n",
    "While you won't need it for this assignment, you can find complete documentation of the fields in this JSON file at\n",
    "* https://collegescorecard.ed.gov/assets/CollegeScorecardDataDictionary.xlsx"
   ]
  },
  {
   "cell_type": "markdown",
   "metadata": {},
   "source": [
    "## Problem 4 (JSON)"
   ]
  },
  {
   "cell_type": "markdown",
   "metadata": {},
   "source": [
    "Open the JSON file `uicscorecard.json` and load it using the `json` module.  Store the result in a variable.\n",
    "\n",
    "* (A) The top-level object in this file is a dictionary.  What are its keys?\n",
    "\n",
    "* (B) One of the keys is called `results`, and the associated value is a list.  How many elements are in this list?"
   ]
  },
  {
   "cell_type": "markdown",
   "metadata": {},
   "source": [
    "## Problem 5 (JSON)\n",
    "\n",
    "Let's assume that a variable `data` stores the dictionary read from `uicscorecard.json`.  (You should write code to accomplish that before proceeding.)\n",
    "\n",
    "Then `data[\"results\"][0]` gives a dictionary of data about UIC.  Some of the keys are years, which lead to year-specific data.\n",
    "\n",
    "For example, the fraction of degrees awarded at UIC in 2017 that were in mathematics can be retrieved as:\n",
    "\n",
    "`data[\"results\"][0][\"2017\"][\"academics\"][\"program_percentage\"][\"mathematics\"]`\n",
    "\n",
    "Here, `\"2017\"` is the year, given as a string.  The value\n",
    "\n",
    "`data[\"results\"][0][\"2017\"][\"academics\"][\"program_percentage\"]`\n",
    "\n",
    "is a dictionary containing fractions of degrees awarded in that year in various subjects.\n",
    "\n",
    "* (A) For which years does this dataset contain information about the fraction of degrees awarded in mathematics?  (A value of `None` indicates missing data.)\n",
    "* (B) What other subjects are tracked, besides mathematics?  (Base your answer on the 2017 data.)\n",
    "* (C) Write a program to print a table of years and the fraction of degrees awarded in mathematics, and in engineering, for each year in which at least one of those fractions is available.\n",
    "\n"
   ]
  },
  {
   "cell_type": "markdown",
   "metadata": {},
   "source": [
    "## Extension activity\n",
    "\n",
    "**You can work on this if you finish all the problems above during discussion.**\n",
    "\n",
    "The file `uicscorecard.json` contains a lot of interesting data about UIC.  It also has a lot of fields with missing data, and it uses a very complex hierarchy of fields.\n",
    "\n",
    "By exploring the keys of various dictionary elements in this file using the Python REPL, try to find interesting information and compile it into a more condensed form (e.g. a table showing how some quantity varies across years, or across academic disciplines).\n",
    "\n",
    "Consult the data dictionary for help with the field meanings:\n",
    "* https://collegescorecard.ed.gov/assets/CollegeScorecardDataDictionary.xlsx\n",
    "\n",
    "(This is a Microsoft Excel file, but it can also be read by Google Sheets which you can access at [gdocs.uic.edu](http://gdocs.uic.edu).)"
   ]
  }
 ],
 "metadata": {
  "kernelspec": {
   "display_name": "Python 3",
   "language": "python",
   "name": "python3"
  },
  "language_info": {
   "codemirror_mode": {
    "name": "ipython",
    "version": 3
   },
   "file_extension": ".py",
   "mimetype": "text/x-python",
   "name": "python",
   "nbconvert_exporter": "python",
   "pygments_lexer": "ipython3",
   "version": "3.8.5"
  }
 },
 "nbformat": 4,
 "nbformat_minor": 4
}
