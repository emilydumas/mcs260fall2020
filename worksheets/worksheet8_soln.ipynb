{
 "cells": [
  {
   "cell_type": "markdown",
   "metadata": {},
   "source": [
    "# Worksheet 8 Solutions\n",
    "\n",
    "## MCS 260 Fall 2020 - Emily Dumas"
   ]
  },
  {
   "cell_type": "markdown",
   "metadata": {},
   "source": [
    "## Instructions:\n",
    "* Complete the problems below in preparation for Quiz 8.\n",
    "* When working in discussion, please have someone in your work group share a screen.\n",
    "* Test your work to make sure it does what is asked!\n",
    "* It is not expected that you will complete these problems in the Tue/Thu discussion meeting."
   ]
  },
  {
   "cell_type": "markdown",
   "metadata": {},
   "source": [
    "## Problem 1"
   ]
  },
  {
   "cell_type": "markdown",
   "metadata": {},
   "source": [
    "Write a function `dir_contents(dirname)` which accepts a single argument, the name of a directory, and which returns a list of dictionaries, one for each file or directory in `dirname`, in the following format:\n",
    "\n",
    "```\n",
    "[\n",
    "  { \"name\": \"foo.txt\", \"type\": \"file\" },\n",
    "  { \"name\": \"sub\", \"type\": \"directory\" }\n",
    "]\n",
    "```\n",
    "\n",
    "That is, each dictionary in the returned list should have two keys, `\"name\"` and `\"type\"`.  The key `\"name\"` should map to the name of a file or directory.  The key `\"type\"` should map to one of the strings `\"file\"` or `\"directory\"`, according to whether the object whose name is in the same dictionary is a regular file or a directory, respectively.\n",
    "\n",
    "(There are objects that can exist in a filesystem that are neither files nor directories.  Your answer does **not** need to handle such objects gracefully.)\n",
    "\n",
    "Your code may assume that the `os` module has already been imported."
   ]
  },
  {
   "cell_type": "code",
   "execution_count": null,
   "metadata": {},
   "outputs": [],
   "source": [
    "# You could assume that os was already imported\n",
    "import os\n",
    "\n",
    "\n",
    "def dir_contents(dirname):\n",
    "    '''Given a directory name, take out each file or directory.\n",
    "    Return them as a list of dicts'''\n",
    "    # Create an empty list, to return later\n",
    "    L = []\n",
    "    \n",
    "    # Set the local path to the input dirname\n",
    "    os.chdir(dirname)\n",
    "    \n",
    "    # Iterate through the items in the input directory\n",
    "    for item in os.listdir(dirname):\n",
    "        \n",
    "        # check what type of object the item is... file or directory?\n",
    "        # Then create and append the appropriate dictionary\n",
    "        if os.path.isfile(item):\n",
    "            d = {}\n",
    "            d[\"name\"] = item\n",
    "            d[\"type\"] = \"file\"\n",
    "            L.append(d)\n",
    "        elif os.path.isdir(item):\n",
    "            d = {}\n",
    "            d[\"name\"] = item\n",
    "            d[\"type\"] = \"directory\"\n",
    "            L.append(d)\n",
    "    return L\n",
    "\n",
    "print(dir_contents(\"C:\\\\Users\\\\jvac\"))"
   ]
  },
  {
   "cell_type": "markdown",
   "metadata": {},
   "source": [
    "## Problem 2"
   ]
  },
  {
   "cell_type": "markdown",
   "metadata": {},
   "source": [
    "In this problem you will create a module and a program that imports and tests that module.\n",
    "\n",
    "Build a module `listprops` that contains the following functions:\n",
    "\n",
    "* `mean(L)`: Accepts a nonempty list `L` of numbers (float or int) and returns the average of the numbers.\n",
    "\n",
    "* `is_decreasing(L)`: Accepts a nonempty list `L` of numbers and returns True if the numbers are strictly decreasing, i.e. if `L[i] > L[i+1]` for each `i`.\n",
    "\n",
    "* `all_equal(L)`: Accepts a nonempty list `L` of numbers and returns True if all of the entries in `L` are equal to one another.\n",
    "\n",
    "Then, build a program `test_listprops.py` that imports the `listprops` module and tests its operations in the cases listed below.  For each test case, a message should be printed indicating what the test does, and whether it succeeded or failed.\n",
    "\n",
    "Each test case listed below will evaluate to True if the module works as specified and has been imported before you run the test code."
   ]
  },
  {
   "cell_type": "code",
   "execution_count": null,
   "metadata": {},
   "outputs": [],
   "source": [
    "listprops.mean([5,6,10]) == 7.0"
   ]
  },
  {
   "cell_type": "code",
   "execution_count": null,
   "metadata": {},
   "outputs": [],
   "source": [
    "listprops.is_decreasing([8,7,6.5,6.5,6,5]) == False"
   ]
  },
  {
   "cell_type": "code",
   "execution_count": null,
   "metadata": {},
   "outputs": [],
   "source": [
    "listprops.is_decreasing([100,73,21,0.1,-5]) == True"
   ]
  },
  {
   "cell_type": "code",
   "execution_count": null,
   "metadata": {},
   "outputs": [],
   "source": [
    "listprops.all_equal([1.5,3,1.5,1.5]) == False"
   ]
  },
  {
   "cell_type": "code",
   "execution_count": null,
   "metadata": {},
   "outputs": [],
   "source": [
    "listprops.all_equal([260,260,260]) == True"
   ]
  },
  {
   "cell_type": "code",
   "execution_count": null,
   "metadata": {},
   "outputs": [],
   "source": [
    "# MCS 260 Worksheet 8 listprops.py\n",
    "# J. Vaccaro\n",
    "'''listprops module functions take in numerical lists, and return properties of them.'''\n",
    "\n",
    "def mean(L):\n",
    "    '''Returns the average of a list of numbers'''\n",
    "    total = 0\n",
    "    for i in L:\n",
    "        total += i\n",
    "    return total/len(L)\n",
    "\n",
    "def is_decreasing(L):\n",
    "    '''Returns True if L is decreasing'''\n",
    "    return all([tup[0]>tup[1] for tup in zip(L, L[1:])])\n",
    "\n",
    "def all_equal(L):\n",
    "    '''Returns True if all L[i] are equal'''\n",
    "    return all([L[0]==i for i in L])\n",
    "\n",
    "\n",
    "# This part is optional\n",
    "if __name__==\"__main__\":\n",
    "    # The following code tested functions during development, \n",
    "    # but won't run when listprops gets imported\n",
    "    \n",
    "    print(mean([1,2,3]))\n",
    "    \n",
    "    print(is_decreasing([5,4,3,2,1]))\n",
    "    print(is_decreasing([5,4,3,3,1]))\n",
    "    \n",
    "    print(all_equal([1,2,2,2]))\n",
    "    print(all_equal([1,1,1,1]))"
   ]
  },
  {
   "cell_type": "code",
   "execution_count": null,
   "metadata": {},
   "outputs": [],
   "source": [
    "# MCS 260 Worksheet 8 test_listprops.py\n",
    "# J. Vaccaro\n",
    "'''This script tested whether the listprops module functions gave expected outputs.'''\n",
    "\n",
    "import listprops\n",
    "\n",
    "print(\"Test if listprops.mean(5,6,10)==7...\")\n",
    "print(listprops.mean([5,6,10]) == 7.0)\n",
    "print(\"Test if listprops.is_decreasing([8,7,6.5,6.5,6,5]) == False...\")\n",
    "print(listprops.is_decreasing([8,7,6.5,6.5,6,5]) == False)\n",
    "print(\"Test if listprops.is_decreasing([100,73,21,0.1,-5]) == True...\")\n",
    "print(listprops.is_decreasing([100,73,21,0.1,-5]) == True)\n",
    "print(\"Test if listprops.all_equal([1.5,3,1.5,1.5]) == False...\")\n",
    "print(listprops.all_equal([1.5,3,1.5,1.5]) == False)\n",
    "print(\"Test if listprops.all_equal([260,260,260]) == True...\")\n",
    "print(listprops.all_equal([260,260,260]) == True)"
   ]
  },
  {
   "cell_type": "markdown",
   "metadata": {},
   "source": [
    "## Problem 3"
   ]
  },
  {
   "cell_type": "markdown",
   "metadata": {},
   "source": [
    "Write a program `trimblank.py` that takes two command line arguments, an input filename (argument 1) and an output filename (argument 2).\n",
    "\n",
    "This program should open and read the file with the given input filename, apply the transformations described below, and write the results to the output filename given.  The transformations are:\n",
    "\n",
    "* If the first non-whitespace character on a line is `#`, then the entire line is ignored (not written to the output file).  This will be called a comment line.\n",
    "* After removing comment lines, if two or more consecutive lines in the input file consist entirely of whitespace, then they should be replaced by a single blank line in the output file.\n",
    "* Other lines from the input file should be written to the output file without any changes.  (Whitespace anywhere in such a line should be preserved.)\n",
    "\n",
    "Also, if the input file does not exist, or if the output file cannot be opened for writing, the program should handle this gracefully by printing an informative message and exiting.\n",
    "\n",
    "Here is a test case for the program."
   ]
  },
  {
   "cell_type": "markdown",
   "metadata": {},
   "source": [
    "### Contents of in.txt\n",
    "\n",
    "```\n",
    "A line of text\n",
    "       \n",
    " # a comment line in the middle of lines with only whitespace\n",
    "\n",
    "\n",
    "Another line of text\n",
    "# comment between text lines\n",
    "  and one that begins with some whitespace\n",
    "\n",
    "\n",
    "\n",
    "Last line of text\n",
    "```\n",
    "\n",
    "### Contents of out.txt after calling `python trimblank.py in.txt out.txt`\n",
    "\n",
    "```\n",
    "A line of text\n",
    "\n",
    "Another line of text\n",
    "  and one that begins with some whitespace\n",
    "\n",
    "Last line of text\n",
    "```"
   ]
  },
  {
   "cell_type": "code",
   "execution_count": null,
   "metadata": {},
   "outputs": [],
   "source": [
    "# MCS 260 Worksheet 8 trimblank.py\n",
    "# J. Vaccaro \n",
    "'''\n",
    "Takes two command-line arguments, an input filename and an output filename.\n",
    "Reads in lines from one file, and if they meet certain conditions, write them to the second file.\n",
    "'''\n",
    "\n",
    "import sys\n",
    "try:\n",
    "    fname_in = sys.argv[1]\n",
    "    fname_out = sys.argv[2]\n",
    "except IndexError:\n",
    "    print(\"trimblank requires two command line arguments\")\n",
    "    print(\"Usage: python trimblank.py in.txt out.txt\")\n",
    "    sys.exit(1)\n",
    "    \n",
    "try:\n",
    "    f_in = open(fname_in, \"r\")\n",
    "except OSError:\n",
    "    print(\"Input file does not exist\")\n",
    "    sys.exit(1)\n",
    "\n",
    "try:\n",
    "    f_out = open(fname_out, \"w\")\n",
    "except OSError:\n",
    "    print(\"Output file cannot be opened to write\")\n",
    "    sys.exit(1)\n",
    "\n",
    "# This boolean variable tracks whether the most recent line added was whitespace\n",
    "prev_whitespace = False\n",
    "for line in f_in:\n",
    "    ls = line.strip()\n",
    "    \n",
    "    if ls==\"\": #If the line is blank, i.e. whitespace, then check whether the previous line added was too\n",
    "        if prev_whitespace:\n",
    "            continue\n",
    "        else:\n",
    "            f_out.write(\"\\n\") # adds a blank line\n",
    "            prev_whitespace = True # updates prev_whitespace, since the last line added was a blank like\n",
    "    \n",
    "    elif ls[0]==\"#\": #If the first non-whitespace character is '#' then do not write it\n",
    "        continue\n",
    "        \n",
    "    else: # If the line is not blank, or commented, then write it\n",
    "        f_out.write(line)\n",
    "        prev_whitespace = False # Updates prev_whitespace, since the last line added was NOT blank\n",
    "    \n",
    "f_in.close()\n",
    "f_out.close()"
   ]
  },
  {
   "cell_type": "markdown",
   "metadata": {},
   "source": [
    "## Problem 4"
   ]
  },
  {
   "cell_type": "markdown",
   "metadata": {},
   "source": [
    "In Lecture 15 we wrote a simple calculator application, `unary.py`.  The source code can be found at:\n",
    "\n",
    "* [unary_10am.py](https://github.com/emilydumas/mcs260fall2020/blob/master/samplecode/unary_10am.py)\n",
    "* [unary_2pm.py](https://github.com/emilydumas/mcs260fall2020/blob/master/samplecode/unary_2pm.py)\n",
    "\n",
    "Add a new command called `undo` to this calculator.  This command should undo the last command entered by the user that was not `undo`.  If the user attempts to undo more commands than have been run, an error message should be printed.\n",
    "\n",
    "Hint: Implement this by creating a stack that stores all previous values of the calculator display.  Each non-undo command should push the value on the stack before running the command.  Then, `undo` simply pops a value off the stack to restore the previous value."
   ]
  },
  {
   "cell_type": "markdown",
   "metadata": {},
   "source": [
    "Here is a sample session in which we use the undo feature.  It would be a good idea to study this example and make sure you understand it before proceeding.  For example, for each undo command, can you identify which previous command will be undone by it?\n",
    "\n",
    "```\n",
    "       0.000\n",
    ">add 1\n",
    "       1.000\n",
    ">add 3\n",
    "       4.000\n",
    ">mul 5\n",
    "      20.000\n",
    ">undo\n",
    "       4.000\n",
    ">mul 4\n",
    "      16.000\n",
    ">undo\n",
    "       4.000\n",
    ">undo\n",
    "       1.000\n",
    ">undo\n",
    "       0.000\n",
    ">undo\n",
    "ERROR: Nothing to undo.\n",
    "       0.000\n",
    ">exit\n",
    "```"
   ]
  },
  {
   "cell_type": "code",
   "execution_count": null,
   "metadata": {},
   "outputs": [],
   "source": [
    "\"\"\"Unary calculator from lecture 15\n",
    "MCS 260 Fall 2020 - Emily Dumas\"\"\"\n",
    "# 'undo' feature added by J. Vaccaro\n",
    "\n",
    "# This was developed as a live coding example\n",
    "# You can (and should) watch the video of it being \n",
    "# written at:\n",
    "# https://uic.zoom.us/rec/share/-9gW0yEvaBiGoWLHd1BKQOwDaDDlOKnYB1D53izwPvMn_NWRCz5nN8LtS9OiLut6.2h2PfeQgG0n7Gsdk\n",
    "\n",
    "def add(current, argument):\n",
    "    \"\"\"Adds argument to current and returns the result\"\"\"\n",
    "    return current+argument\n",
    "\n",
    "def subtract(current, argument):\n",
    "    \"\"\"Subtracts argument from current and returns the result\"\"\"\n",
    "    return current-argument\n",
    "\n",
    "def multiply(current, argument):\n",
    "    \"\"\"Multiplies argument by current and returns the result\"\"\"\n",
    "    return current*argument\n",
    "\n",
    "def divide(current, argument):\n",
    "    \"\"\"Divides current by argument and returns the result\"\"\"\n",
    "    return current/argument\n",
    "\n",
    "def load(current, argument):\n",
    "    \"\"\"Returns argument\"\"\"\n",
    "    return argument\n",
    "\n",
    "# DATA about what commands are supported\n",
    "commands = {\n",
    "    \"add\": add,\n",
    "    \"mul\": multiply,\n",
    "    \"sub\": subtract,\n",
    "    \"div\": divide,\n",
    "    \"power\": lambda c,a: c**a,\n",
    "    \"load\": load,   \n",
    "}\n",
    "\n",
    "val = 0.0\n",
    "val_stack = [] # Added to create the stack of recent values for undoing\n",
    "\n",
    "while True:\n",
    "    print(\"{:12.3f}\".format(val))\n",
    "    s = input(\">\") # read the full command\n",
    "    \n",
    "    if s == \"exit\":\n",
    "        break\n",
    "\n",
    "    if s == \"help\":\n",
    "        print(\"The following commands are known:\")\n",
    "        for c in commands:\n",
    "            print(c)\n",
    "\n",
    "    # Added the undo command feature by popping off the most recent previous value\n",
    "    if s == \"undo\":\n",
    "            if len(val_stack) == 0:\n",
    "                print(\"ERROR: Nothing to undo.\") # If the value stack is empty, undo nothing\n",
    "            else:\n",
    "                val = val_stack.pop()\n",
    "\n",
    "    else:\n",
    "        cmd,argstr = s.split()\n",
    "        arg = float(argstr)\n",
    "        # cmd is the command, as a string\n",
    "        # arg is the argument, as a float\n",
    "        \n",
    "        if cmd in commands:\n",
    "            # Before completing a new operation, append the previous value to the value stack\n",
    "            val_stack.append(val) \n",
    "            \n",
    "            val = commands[cmd](val,arg)\n",
    "        else:\n",
    "            print(\"ERROR: Unrecognized command: {}\".format(cmd))"
   ]
  }
 ],
 "metadata": {
  "kernelspec": {
   "display_name": "Python 3",
   "language": "python",
   "name": "python3"
  },
  "language_info": {
   "codemirror_mode": {
    "name": "ipython",
    "version": 3
   },
   "file_extension": ".py",
   "mimetype": "text/x-python",
   "name": "python",
   "nbconvert_exporter": "python",
   "pygments_lexer": "ipython3",
   "version": "3.8.5"
  }
 },
 "nbformat": 4,
 "nbformat_minor": 4
}
