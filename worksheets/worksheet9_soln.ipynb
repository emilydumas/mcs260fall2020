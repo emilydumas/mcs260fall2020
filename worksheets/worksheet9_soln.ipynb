{
 "cells": [
  {
   "cell_type": "markdown",
   "metadata": {},
   "source": [
    "# Worksheet 9 Solutions\n",
    "\n",
    "## MCS 260 Fall 2020 - Emily Dumas"
   ]
  },
  {
   "cell_type": "markdown",
   "metadata": {},
   "source": [
    "## Instructions:\n",
    "* Complete the problems below in preparation for Quiz 9.\n",
    "* Collaboration is strongly encouraged on Worksheets\n",
    "* When working in discussion, please have someone in your work group share a screen.\n",
    "* Test your work to make sure it does what is asked\n",
    "* It is not expected that you will complete these problems in the Tue/Thu discussion meeting."
   ]
  },
  {
   "cell_type": "markdown",
   "metadata": {},
   "source": [
    "## Problem 1"
   ]
  },
  {
   "cell_type": "markdown",
   "metadata": {},
   "source": [
    "Write a HTML file titled \"MCS 260 experience\".  It should contain a paragraph, followed by a bullet list, then another paragraph, and another bullet list.  The suggested contents of the first paragraph are:\n",
    "```\n",
    "The things I like most from MCS 260 so far are:\n",
    "```\n",
    "and for the second paragraph, we recommend:\n",
    "```\n",
    "The things I like least from MCS 260 so far are:\n",
    "```\n",
    "But you can use any text you like.  The point is to have an intended document structure and practice realizing it as HTML code.\n",
    "\n",
    "Open your file in a browser to make sure it renders correctly.  Don't forget closing tags!\n",
    "\n",
    "You are encouraged to make your bullet lists accurate (i.e. to actually think about and list your most and least favorite things).  If you do that, please email the resulting HTML file of feedback to Professor Dumas at [ddumas@uic.edu](mailto:ddumas@uic.edu)."
   ]
  },
  {
   "cell_type": "markdown",
   "metadata": {},
   "source": [
    "```\n",
    "<!doctype html>\n",
    "<html>\n",
    " <head>\n",
    " <title>MCS 260 Experience</title>\n",
    " </head>\n",
    " <body>\n",
    "  <p>The things I like most from MCS 260 so far are:</p>\n",
    "  <ul>\n",
    "   <li>Learning a new skill.</li>\n",
    "   <li>Working with other students during discussion.</li>\n",
    "   <li>That feeling when my project code <strong>finally</strong> passes the autograder!</li>\n",
    "  </ul>\n",
    "  <p>The things I like least from MCS 260 so far are:</p>\n",
    "  <ul>\n",
    "   <li>Learning a new skill can be frustrating.</li>\n",
    "   <li>Sometimes I'm a bit nervous to share my screen during discussion.</li>\n",
    "  </ul>\n",
    " </body>\n",
    "</html>\n",
    "```"
   ]
  },
  {
   "cell_type": "markdown",
   "metadata": {},
   "source": [
    "## Problem 2"
   ]
  },
  {
   "cell_type": "markdown",
   "metadata": {},
   "source": [
    "Analogous to the classes discussed in lectures 23 and 24, create a Python class called Segment to store a line segment in the plane.  The constructor should accept four arguments: x0,y0,x1,y1.  The point (x0,y0) is then one endpoint of the segment, and (x1,y1) is the other endpoint.  All four constructor arguments should be stored as attributes.\n",
    "\n",
    "The following methods should be included:\n",
    "* `translate(dx,dy)` - move the segment horizontally by `dx` and vertically by `dy`.  This should modify the object, not returning anything.\n",
    "* `scale(factor)` - increase the length of the segment by a factor of `factor`, keeping the center point the same.  **This is tricky, because the center point is not part of the data stored in the class!  Feel free to skip this at first and come back to it later.**\n",
    "* `__str__()` - make a reasonable human-readable string representation that includes the values of x0,y0,x1,y1.\n",
    "* `length()` - returns a float, the distance between the endpoints of the segment.\n",
    "\n",
    "Also, read the next problem before you start work on this."
   ]
  },
  {
   "cell_type": "code",
   "execution_count": 8,
   "metadata": {},
   "outputs": [
    {
     "name": "stdout",
     "output_type": "stream",
     "text": [
      "Create a Segment L from (0,0) to (0,4)\n",
      "Confirm that L's endpoints are accessible\n",
      "Segment from (0,0) to (0,4)\n",
      "0 0 0 4\n",
      "Confirm that length is 4:  True\n",
      "Try to scale L by 2 to (0,0),(0,8)\n",
      "Segment from (0.0,-2.0) to (0.0,6.0)\n",
      "Confirm that length is 8:  True\n",
      "Try to translate L to (50,100),(50,108)\n",
      "Segment from (50.0,98.0) to (50.0,106.0)\n"
     ]
    }
   ],
   "source": [
    "import math\n",
    "class Segment():\n",
    "    '''Creates a 2D line segment by storing the endpoints as attributes'''\n",
    "    \n",
    "    def __init__(self, x0, y0, x1, y1):\n",
    "        '''Constructor stores the endpoint values to the Segment object'''\n",
    "        self.x0 = x0\n",
    "        self.y0 = y0\n",
    "        self.x1 = x1\n",
    "        self.y1 = y1\n",
    "    \n",
    "    def translate(self, dx, dy):\n",
    "        '''Moves the Segment horizontally by dx, and vertically by dy. Returns nothing'''\n",
    "        self.x0 += dx\n",
    "        self.y0 += dy\n",
    "        self.x1 += dx\n",
    "        self.y1 += dy\n",
    "    \n",
    "    def scale(self, factor):\n",
    "        '''Scales the Segment by `factor` while keeping the center point the same. Returns nothing'''\n",
    "        # First, calculate the center of the segment using the averages of the endpoints\n",
    "        centerx = (self.x0 + self.x1)/2\n",
    "        centery = (self.y0 + self.y1)/2\n",
    "        # Translate the segment so it is centered at the origin (0,0)\n",
    "        self.translate(-centerx, -centery)\n",
    "        # Scale the segment by multiplying the endpoint values by factor\n",
    "        self.x0 *= factor\n",
    "        self.x1 *= factor\n",
    "        self.y0 *= factor\n",
    "        self.y1 *= factor\n",
    "        # Translate the scaled segment back to its original center\n",
    "        self.translate(centerx, centery)\n",
    "    \n",
    "    def __str__(self):\n",
    "        '''Returns a human-readable string representing the Segment'''\n",
    "        return \"Segment from ({},{}) to ({},{})\".format(self.x0, self.y0, self.x1, self.y1)\n",
    "    \n",
    "    def length(self):\n",
    "        '''Returns the length of the segment calculated with the Pythagorean Thm'''\n",
    "        dx = self.x1 - self.x0\n",
    "        dy = self.y1 - self.y0\n",
    "        return math.sqrt(dx**2 + dy**2)"
   ]
  },
  {
   "cell_type": "markdown",
   "metadata": {},
   "source": [
    "## Problem 3"
   ]
  },
  {
   "cell_type": "markdown",
   "metadata": {},
   "source": [
    "This problem builds on the Segment class from problem 2.\n",
    "\n",
    "Suppose the Segment class from Problem 2 is stored in a file `geom.py`.  Write a program to test the Segment class.  It should do the following:\n",
    "\n",
    "* Create a segment and check that the attributes x0,y1, etc. exist.\n",
    "* Scale a segment and confirm that the new endpoints are as expected.\n",
    "* Translate a segment and confirm that the new endpoints are as expected.\n",
    "* Test that a segment that you choose to ensure its length is computed correctly.\n",
    "\n",
    "## IMPORTANT NOTE\n",
    "\n",
    "Any time you are tempted to test whether two floats are equal, please instead use a check of whether they differ by a very small amount, e.g. instead of\n",
    "```\n",
    "if x == y:\n",
    "    # stuff\n",
    "```\n",
    "use\n",
    "```\n",
    "if abs(x-y) < 1e-12:\n",
    "    # stuff\n",
    "```\n",
    "This will help to avoid problems created by the fact that float operations are only approximations of the associated operations on real numbers."
   ]
  },
  {
   "cell_type": "code",
   "execution_count": 9,
   "metadata": {},
   "outputs": [
    {
     "name": "stdout",
     "output_type": "stream",
     "text": [
      "Create a Segment L from (0,0) to (0,4)\n",
      "Confirm that L's endpoints are accessible\n",
      "Segment from (0,0) to (0,4)\n",
      "0 0 0 4\n",
      "Confirm that length is 4:  True\n",
      "Try to scale L by 2 to (0,0),(0,8)\n",
      "Segment from (0.0,-2.0) to (0.0,6.0)\n",
      "Confirm that length is 8:  True\n",
      "Try to translate L to (50,100),(50,108)\n",
      "Segment from (50.0,98.0) to (50.0,106.0)\n"
     ]
    }
   ],
   "source": [
    "#import geom\n",
    "print(\"Create a Segment L from (0,0) to (0,4)\")\n",
    "L = geom.Segment(0, 0, 0, 4)\n",
    "print(\"Confirm that L's endpoints are accessible\")\n",
    "print(L)\n",
    "print(L.x0, L.y0, L.x1, L.y1)\n",
    "print(\"Confirm that length is 4: \", abs(L.length()-4)<1e-12)\n",
    "print(\"Try to scale L by 2 to (0,0),(0,8)\")\n",
    "L.scale(2)\n",
    "print(L)\n",
    "print(\"Confirm that length is 8: \", abs(L.length()-8)<1e-12)\n",
    "print(\"Try to translate L to (50,100),(50,108)\")\n",
    "L.translate(50,100)\n",
    "print(L)"
   ]
  },
  {
   "cell_type": "markdown",
   "metadata": {},
   "source": [
    "## Problem 4"
   ]
  },
  {
   "cell_type": "markdown",
   "metadata": {},
   "source": [
    "Below you will find code that defines a class `QuantityWithUnit` that is meant to store float quantities that also have a unit of measurement attached to them, such as `55 m` (55 meters), `2.8 s` (2.8 seconds), or `94.05 kg` (94.05 kilograms).  Save it in a file `qwu.py` on your computer, so you can import it with `import qwu`.  Read the code and familiarize yourself with what it does.  Then try the following:\n",
    "\n",
    "* Create an instance M of this class to represent 19 kilograms\n",
    "* See how the REPL displays that value\n",
    "* Try printing M\n",
    "* What happens when you add M to itself?\n",
    "* What happens when you subtract M from itself?\n",
    "* Create an instance T of this class to represent 3600 seconds\n",
    "* What happens when you add M and T?\n",
    "\n",
    "The final product of your work on this question could be a program that demonstrates all of these features."
   ]
  },
  {
   "cell_type": "code",
   "execution_count": 10,
   "metadata": {},
   "outputs": [],
   "source": [
    "class QuantityWithUnit:\n",
    "    \"\"\"A float quantity that also has a unit name, such as \n",
    "    kilograms, meters, seconds, etc.\"\"\"\n",
    "    def __init__(self,qty,unit):\n",
    "        \"\"\"Create new quantity with units\"\"\"\n",
    "        self.qty = float(qty)\n",
    "        self.unit = unit\n",
    "    def __str__(self):\n",
    "        \"\"\"Make human-readable string version of quantity\"\"\"\n",
    "        return \"{} {}\".format(self.qty,self.unit)\n",
    "    def __repr__(self):\n",
    "        \"\"\"Make more precise string version of quantity\"\"\"\n",
    "        return \"QuantityWithUnits(qty={},unit={})\".format(self.qty,self.unit)\n",
    "    def __add__(self,other):\n",
    "        \"\"\"Sum of two quantities requires them to have the same units\"\"\"\n",
    "        if not isinstance(other,QuantityWithUnit):\n",
    "            raise TypeError(\"Can only add a QuantityWithUnits to another QuantityWithUnits\")\n",
    "        if self.unit != other.unit:\n",
    "            raise ValueError(\"Cannot add quantities with different units: {} and {}\".format(self,other))\n",
    "        return QuantityWithUnit(self.qty+other.qty,self.unit)\n",
    "    def __sub__(self,other):\n",
    "        \"\"\"Difference of two quantities requires them to have the same units\"\"\"\n",
    "        if not isinstance(other,QuantityWithUnit):\n",
    "            raise TypeError(\"Can only subtract a QuantityWithUnits from another QuantityWithUnits\")\n",
    "        if self.unit != other.unit:\n",
    "            raise ValueError(\"Cannot subtract quantities with different units: {} and {}\".format(self,other))\n",
    "        return QuantityWithUnit(self.qty-other.qty,self.unit)"
   ]
  },
  {
   "cell_type": "code",
   "execution_count": 18,
   "metadata": {},
   "outputs": [
    {
     "name": "stdout",
     "output_type": "stream",
     "text": [
      "M 19.0 kg\n",
      "M.__str__() 19.0 kg\n",
      "M.__repr__() QuantityWithUnits(qty=19.0,unit=kg)\n",
      "M+M 38.0 kg\n",
      "M-M 0.0 kg\n"
     ]
    },
    {
     "ename": "ValueError",
     "evalue": "Cannot add quantities with different units: 19.0 kg and 3600.0 sec",
     "output_type": "error",
     "traceback": [
      "\u001b[1;31m---------------------------------------------------------------------------\u001b[0m",
      "\u001b[1;31mValueError\u001b[0m                                Traceback (most recent call last)",
      "\u001b[1;32m<ipython-input-18-80d120cc2cab>\u001b[0m in \u001b[0;36m<module>\u001b[1;34m\u001b[0m\n\u001b[0;32m      7\u001b[0m \u001b[0mprint\u001b[0m\u001b[1;33m(\u001b[0m\u001b[1;34m\"M-M\"\u001b[0m\u001b[1;33m,\u001b[0m\u001b[0mM\u001b[0m\u001b[1;33m-\u001b[0m\u001b[0mM\u001b[0m\u001b[1;33m)\u001b[0m\u001b[1;33m\u001b[0m\u001b[1;33m\u001b[0m\u001b[0m\n\u001b[0;32m      8\u001b[0m \u001b[0mT\u001b[0m \u001b[1;33m=\u001b[0m \u001b[0mQuantityWithUnit\u001b[0m\u001b[1;33m(\u001b[0m\u001b[1;36m3600\u001b[0m\u001b[1;33m,\u001b[0m \u001b[1;34m\"sec\"\u001b[0m\u001b[1;33m)\u001b[0m\u001b[1;33m\u001b[0m\u001b[1;33m\u001b[0m\u001b[0m\n\u001b[1;32m----> 9\u001b[1;33m \u001b[0mprint\u001b[0m\u001b[1;33m(\u001b[0m\u001b[1;34m\"M+T\"\u001b[0m\u001b[1;33m,\u001b[0m\u001b[0mM\u001b[0m\u001b[1;33m+\u001b[0m\u001b[0mT\u001b[0m\u001b[1;33m)\u001b[0m\u001b[1;33m\u001b[0m\u001b[1;33m\u001b[0m\u001b[0m\n\u001b[0m",
      "\u001b[1;32m<ipython-input-15-7e40b57b24d1>\u001b[0m in \u001b[0;36m__add__\u001b[1;34m(self, other)\u001b[0m\n\u001b[0;32m     17\u001b[0m             \u001b[1;32mraise\u001b[0m \u001b[0mTypeError\u001b[0m\u001b[1;33m(\u001b[0m\u001b[1;34m\"Can only add a QuantityWithUnit to another QuantityWithUnit\"\u001b[0m\u001b[1;33m)\u001b[0m\u001b[1;33m\u001b[0m\u001b[1;33m\u001b[0m\u001b[0m\n\u001b[0;32m     18\u001b[0m         \u001b[1;32mif\u001b[0m \u001b[0mself\u001b[0m\u001b[1;33m.\u001b[0m\u001b[0munit\u001b[0m \u001b[1;33m!=\u001b[0m \u001b[0mother\u001b[0m\u001b[1;33m.\u001b[0m\u001b[0munit\u001b[0m\u001b[1;33m:\u001b[0m\u001b[1;33m\u001b[0m\u001b[1;33m\u001b[0m\u001b[0m\n\u001b[1;32m---> 19\u001b[1;33m             \u001b[1;32mraise\u001b[0m \u001b[0mValueError\u001b[0m\u001b[1;33m(\u001b[0m\u001b[1;34m\"Cannot add quantities with different units: {} and {}\"\u001b[0m\u001b[1;33m.\u001b[0m\u001b[0mformat\u001b[0m\u001b[1;33m(\u001b[0m\u001b[0mself\u001b[0m\u001b[1;33m,\u001b[0m\u001b[0mother\u001b[0m\u001b[1;33m)\u001b[0m\u001b[1;33m)\u001b[0m\u001b[1;33m\u001b[0m\u001b[1;33m\u001b[0m\u001b[0m\n\u001b[0m\u001b[0;32m     20\u001b[0m         \u001b[1;32mreturn\u001b[0m \u001b[0mQuantityWithUnit\u001b[0m\u001b[1;33m(\u001b[0m\u001b[0mself\u001b[0m\u001b[1;33m.\u001b[0m\u001b[0mqty\u001b[0m\u001b[1;33m+\u001b[0m\u001b[0mother\u001b[0m\u001b[1;33m.\u001b[0m\u001b[0mqty\u001b[0m\u001b[1;33m,\u001b[0m\u001b[0mself\u001b[0m\u001b[1;33m.\u001b[0m\u001b[0munit\u001b[0m\u001b[1;33m)\u001b[0m\u001b[1;33m\u001b[0m\u001b[1;33m\u001b[0m\u001b[0m\n\u001b[0;32m     21\u001b[0m     \u001b[1;32mdef\u001b[0m \u001b[0m__sub__\u001b[0m\u001b[1;33m(\u001b[0m\u001b[0mself\u001b[0m\u001b[1;33m,\u001b[0m\u001b[0mother\u001b[0m\u001b[1;33m)\u001b[0m\u001b[1;33m:\u001b[0m\u001b[1;33m\u001b[0m\u001b[1;33m\u001b[0m\u001b[0m\n",
      "\u001b[1;31mValueError\u001b[0m: Cannot add quantities with different units: 19.0 kg and 3600.0 sec"
     ]
    }
   ],
   "source": [
    "import qwu\n",
    "M = qwu.QuantityWithUnit(19, \"kg\")\n",
    "print(\"M\",M)\n",
    "print(\"M.__str__()\",M.__str__()) # How print prints M\n",
    "print(\"M.__repr__()\",M.__repr__()) # How REPL prints M\n",
    "print(\"M+M\",M+M)\n",
    "print(\"M-M\",M-M)\n",
    "T = qwu.QuantityWithUnit(3600, \"sec\")\n",
    "print(\"M+T\",M+T)"
   ]
  },
  {
   "cell_type": "markdown",
   "metadata": {},
   "source": [
    "## Problem 5"
   ]
  },
  {
   "cell_type": "markdown",
   "metadata": {},
   "source": [
    "You should look at the previous problem before attempting this one.\n",
    "\n",
    "First, add support for testing equality to `QuantityWithUnit`.  Two quantities with unit should be considered equal if the float quantities are equal, and if the units are equal.\n",
    "\n",
    "Now, consider adding support for multiplication as follows.\n",
    "\n",
    "Multiplying two quantities with units results in an answer that has a different unit.  For example, 11 kilograms multiplied by 20 seconds is equal to 220 kilogram-seconds.\n",
    "\n",
    "However, it does make sense to multiply a quantity with units by a number that has no units at all.  For example, if you have 16 apples that each have a mass of 0.1 kilograms, then the total mass is (0.1kg)\\*16 = 1.6kg.\n",
    "\n",
    "Add an operator overloading feature to `QuantityWithUnit` that allows such a quantity to be multiplied by a number as long as it is not an instance of `QuantityWithUnit`.  If you do this correctly, then the following tests should behave as the comments suggest.  These assume that you have `QuantityWithUnit` in a module called `qwu`."
   ]
  },
  {
   "cell_type": "code",
   "execution_count": 15,
   "metadata": {},
   "outputs": [],
   "source": [
    "class QuantityWithUnit:\n",
    "    \"\"\"A float quantity that also has a unit name, such as \n",
    "    kilograms, meters, seconds, etc.\"\"\"\n",
    "    def __init__(self,qty,unit):\n",
    "        \"\"\"Create new quantity with units\"\"\"\n",
    "        self.qty = float(qty)\n",
    "        self.unit = unit\n",
    "    def __str__(self):\n",
    "        \"\"\"Make human-readable string version of quantity\"\"\"\n",
    "        return \"{} {}\".format(self.qty,self.unit)\n",
    "    def __repr__(self):\n",
    "        \"\"\"Make human-readable string version of quantity\"\"\"\n",
    "        return \"QuantityWithUnits(qty={},unit={})\".format(self.qty,self.unit)\n",
    "    def __add__(self,other):\n",
    "        \"\"\"Sum of two quantities requires them to have the same units\"\"\"\n",
    "        if not isinstance(other,QuantityWithUnit):\n",
    "            raise TypeError(\"Can only add a QuantityWithUnit to another QuantityWithUnit\")\n",
    "        if self.unit != other.unit:\n",
    "            raise ValueError(\"Cannot add quantities with different units: {} and {}\".format(self,other))\n",
    "        return QuantityWithUnit(self.qty+other.qty,self.unit)\n",
    "    def __sub__(self,other):\n",
    "        \"\"\"Difference of two quantities requires them to have the same units\"\"\"\n",
    "        if not isinstance(other,QuantityWithUnit):\n",
    "            raise TypeError(\"Can only subtract a QuantityWithUnit from another QuantityWithUnit\")\n",
    "        if self.unit != other.unit:\n",
    "            raise ValueError(\"Cannot subtract quantities with different units: {} and {}\".format(self,other))\n",
    "        return QuantityWithUnit(self.qty-other.qty,self.unit)\n",
    "    \n",
    "    def __eq__(self, other):\n",
    "        '''Returns a True if the other is a QWU with the same qty and unit, False otherwise'''\n",
    "        return self.__repr__() == other.__repr__()\n",
    "    \n",
    "    def __mul__(self, factor):\n",
    "        '''Returns a new QWU with the same units and the qty scaled by `factor` which must be a scalar.'''\n",
    "        try:\n",
    "            factor = float(factor)\n",
    "        except TypeError:\n",
    "            raise TypeError(\"Can only multiply a QuantityWithUnit by a scalar factor\")\n",
    "        return QuantityWithUnit(self.qty*factor, self.unit)"
   ]
  },
  {
   "cell_type": "code",
   "execution_count": 17,
   "metadata": {},
   "outputs": [
    {
     "name": "stdout",
     "output_type": "stream",
     "text": [
      "1268.0 kg\n",
      "False\n",
      "True\n",
      "6000.0 kg\n"
     ]
    },
    {
     "ename": "TypeError",
     "evalue": "Can only multiply a QuantityWithUnit by a scalar factor",
     "output_type": "error",
     "traceback": [
      "\u001b[1;31m---------------------------------------------------------------------------\u001b[0m",
      "\u001b[1;31mTypeError\u001b[0m                                 Traceback (most recent call last)",
      "\u001b[1;32m<ipython-input-15-7e40b57b24d1>\u001b[0m in \u001b[0;36m__mul__\u001b[1;34m(self, factor)\u001b[0m\n\u001b[0;32m     42\u001b[0m         \u001b[1;32mtry\u001b[0m\u001b[1;33m:\u001b[0m\u001b[1;33m\u001b[0m\u001b[1;33m\u001b[0m\u001b[0m\n\u001b[1;32m---> 43\u001b[1;33m             \u001b[0mfactor\u001b[0m \u001b[1;33m=\u001b[0m \u001b[0mfloat\u001b[0m\u001b[1;33m(\u001b[0m\u001b[0mfactor\u001b[0m\u001b[1;33m)\u001b[0m\u001b[1;33m\u001b[0m\u001b[1;33m\u001b[0m\u001b[0m\n\u001b[0m\u001b[0;32m     44\u001b[0m         \u001b[1;32mexcept\u001b[0m \u001b[0mTypeError\u001b[0m\u001b[1;33m:\u001b[0m\u001b[1;33m\u001b[0m\u001b[1;33m\u001b[0m\u001b[0m\n",
      "\u001b[1;31mTypeError\u001b[0m: float() argument must be a string or a number, not 'QuantityWithUnit'",
      "\nDuring handling of the above exception, another exception occurred:\n",
      "\u001b[1;31mTypeError\u001b[0m                                 Traceback (most recent call last)",
      "\u001b[1;32m<ipython-input-17-1188ee5fb9d4>\u001b[0m in \u001b[0;36m<module>\u001b[1;34m\u001b[0m\n\u001b[0;32m     11\u001b[0m  \u001b[1;31m# works\u001b[0m\u001b[1;33m\u001b[0m\u001b[1;33m\u001b[0m\u001b[1;33m\u001b[0m\u001b[0m\n\u001b[0;32m     12\u001b[0m \u001b[0mprint\u001b[0m\u001b[1;33m(\u001b[0m\u001b[0mcar_mass\u001b[0m \u001b[1;33m*\u001b[0m \u001b[1;36m5\u001b[0m\u001b[1;33m)\u001b[0m \u001b[1;31m# works -- mass of 5 cars\u001b[0m\u001b[1;33m\u001b[0m\u001b[1;33m\u001b[0m\u001b[0m\n\u001b[1;32m---> 13\u001b[1;33m \u001b[0mprint\u001b[0m\u001b[1;33m(\u001b[0m\u001b[0mcar_mass\u001b[0m \u001b[1;33m*\u001b[0m \u001b[0mlecture_length\u001b[0m\u001b[1;33m)\u001b[0m \u001b[1;31m# fails; only allowed to multiply by unitless numbers\u001b[0m\u001b[1;33m\u001b[0m\u001b[1;33m\u001b[0m\u001b[0m\n\u001b[0m",
      "\u001b[1;32m<ipython-input-15-7e40b57b24d1>\u001b[0m in \u001b[0;36m__mul__\u001b[1;34m(self, factor)\u001b[0m\n\u001b[0;32m     43\u001b[0m             \u001b[0mfactor\u001b[0m \u001b[1;33m=\u001b[0m \u001b[0mfloat\u001b[0m\u001b[1;33m(\u001b[0m\u001b[0mfactor\u001b[0m\u001b[1;33m)\u001b[0m\u001b[1;33m\u001b[0m\u001b[1;33m\u001b[0m\u001b[0m\n\u001b[0;32m     44\u001b[0m         \u001b[1;32mexcept\u001b[0m \u001b[0mTypeError\u001b[0m\u001b[1;33m:\u001b[0m\u001b[1;33m\u001b[0m\u001b[1;33m\u001b[0m\u001b[0m\n\u001b[1;32m---> 45\u001b[1;33m             \u001b[1;32mraise\u001b[0m \u001b[0mTypeError\u001b[0m\u001b[1;33m(\u001b[0m\u001b[1;34m\"Can only multiply a QuantityWithUnit by a scalar factor\"\u001b[0m\u001b[1;33m)\u001b[0m\u001b[1;33m\u001b[0m\u001b[1;33m\u001b[0m\u001b[0m\n\u001b[0m\u001b[0;32m     46\u001b[0m         \u001b[1;32mreturn\u001b[0m \u001b[0mQuantityWithUnit\u001b[0m\u001b[1;33m(\u001b[0m\u001b[0mself\u001b[0m\u001b[1;33m.\u001b[0m\u001b[0mqty\u001b[0m\u001b[1;33m*\u001b[0m\u001b[0mfactor\u001b[0m\u001b[1;33m,\u001b[0m \u001b[0mself\u001b[0m\u001b[1;33m.\u001b[0m\u001b[0munit\u001b[0m\u001b[1;33m)\u001b[0m\u001b[1;33m\u001b[0m\u001b[1;33m\u001b[0m\u001b[0m\n",
      "\u001b[1;31mTypeError\u001b[0m: Can only multiply a QuantityWithUnit by a scalar factor"
     ]
    }
   ],
   "source": [
    "import qwu\n",
    "\n",
    "car_mass = qwu.QuantityWithUnit(1200,\"kg\")\n",
    "car_mass_2 = qwu.QuantityWithUnit(1200,\"kg\")\n",
    "person_mass = qwu.QuantityWithUnit(68,\"kg\")\n",
    "lecture_length = qwu.QuantityWithUnit(50,\"min\")\n",
    "\n",
    "print(car_mass + person_mass)\n",
    "print(car_mass == person_mass) # works, should print False\n",
    "print(car_mass == car_mass_2) # works, should print True\n",
    " # works\n",
    "print(car_mass * 5) # works -- mass of 5 cars\n",
    "print(car_mass * lecture_length) # fails; only allowed to multiply by unitless numbers"
   ]
  },
  {
   "cell_type": "code",
   "execution_count": null,
   "metadata": {},
   "outputs": [],
   "source": []
  }
 ],
 "metadata": {
  "kernelspec": {
   "display_name": "Python 3",
   "language": "python",
   "name": "python3"
  },
  "language_info": {
   "codemirror_mode": {
    "name": "ipython",
    "version": 3
   },
   "file_extension": ".py",
   "mimetype": "text/x-python",
   "name": "python",
   "nbconvert_exporter": "python",
   "pygments_lexer": "ipython3",
   "version": "3.8.5"
  }
 },
 "nbformat": 4,
 "nbformat_minor": 4
}
