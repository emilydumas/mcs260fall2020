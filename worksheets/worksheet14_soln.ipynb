{
 "cells": [
  {
   "cell_type": "markdown",
   "metadata": {},
   "source": [
    "# Worksheet 14 Solutions\n",
    "\n",
    "## MCS 260 Fall 2020 - Emily Dumas"
   ]
  },
  {
   "cell_type": "markdown",
   "metadata": {},
   "source": [
    "## Note\n",
    "* This worksheet was abbreviated due to the Thanksgiving holiday and the lack of a regular discussion this week."
   ]
  },
  {
   "cell_type": "markdown",
   "metadata": {},
   "source": [
    "## Problem 1"
   ]
  },
  {
   "cell_type": "markdown",
   "metadata": {},
   "source": [
    "Use the `datetime` module to compute the number of seconds between 4:32am on September 18, 1982 and 8:45pm on December 8, 2020.  Assume these dates and times are in UTC, so that no issues of time zone changes or daylight saving time arise.  (That is, use naive `datetime.datetime` objects to do the computation.)"
   ]
  },
  {
   "cell_type": "markdown",
   "metadata": {},
   "source": [
    "## Problem 1 solution"
   ]
  },
  {
   "cell_type": "code",
   "execution_count": 2,
   "metadata": {},
   "outputs": [
    {
     "name": "stdout",
     "output_type": "stream",
     "text": [
      "1206288780.0\n"
     ]
    }
   ],
   "source": [
    "\"\"\"datetime.timedelta in seconds example\"\"\"\n",
    "import datetime\n",
    "\n",
    "# 4:32am on September 18, 1982\n",
    "t0 = datetime.datetime(1982,9,18,4,32)\n",
    "\n",
    "# 8:45pm on December 8, 2020\n",
    "t1 = datetime.datetime(2020,12,8,20,45)\n",
    "\n",
    "delta = t1-t0\n",
    "print(delta.total_seconds())"
   ]
  },
  {
   "cell_type": "markdown",
   "metadata": {},
   "source": [
    "## Problem 2"
   ]
  },
  {
   "cell_type": "markdown",
   "metadata": {},
   "source": [
    "Write a script to find and print all of the **Mondays** between February 9, 2016 and June 1, 2016.  The output should look like\n",
    "\n",
    "```\n",
    "Monday, February 8, 2016\n",
    "Monday, February 15, 2016\n",
    "...\n",
    "```\n",
    "\n",
    "The suggested way to do this is to use a `datetime.date` object and a while loop.  In the loop, add one day, and then check if the current date is a Monday or not.  The `datetime.date` object has a method called `.weekday()` which returns 0 for Monday, 1 for Tuesday, etc.."
   ]
  },
  {
   "cell_type": "markdown",
   "metadata": {},
   "source": [
    "## Problem 2 solution"
   ]
  },
  {
   "cell_type": "markdown",
   "metadata": {},
   "source": [
    "The problem has two small errors:\n",
    "\n",
    "* The sample output shows February 8, which is not in the given range.\n",
    "* Using `datetime.datetime.strftime`, there is no platform-independent way to get the day of the month without a leading zero.  We solve the problem but print two-digit day numbers."
   ]
  },
  {
   "cell_type": "code",
   "execution_count": 6,
   "metadata": {},
   "outputs": [
    {
     "name": "stdout",
     "output_type": "stream",
     "text": [
      "Monday, February 15, 2016\n",
      "Monday, February 22, 2016\n",
      "Monday, February 29, 2016\n",
      "Monday, March 07, 2016\n",
      "Monday, March 14, 2016\n",
      "Monday, March 21, 2016\n",
      "Monday, March 28, 2016\n",
      "Monday, April 04, 2016\n",
      "Monday, April 11, 2016\n",
      "Monday, April 18, 2016\n",
      "Monday, April 25, 2016\n",
      "Monday, May 02, 2016\n",
      "Monday, May 09, 2016\n",
      "Monday, May 16, 2016\n",
      "Monday, May 23, 2016\n",
      "Monday, May 30, 2016\n"
     ]
    }
   ],
   "source": [
    "\"\"\"day of week example\"\"\"\n",
    "import datetime\n",
    "\n",
    "# Feb 9, 2016\n",
    "d = datetime.date(2016,2,9)\n",
    "# Jun 1, 2016\n",
    "dend = datetime.date(2016,6,1)\n",
    "\n",
    "while d <= dend:\n",
    "    if d.weekday() == 0:\n",
    "        print(d.strftime(\"%A, %B %d, %Y\"))\n",
    "    # Move forward one day\n",
    "    d = d + datetime.timedelta(days=1)\n",
    "    \n",
    "# Note: With slightly more complicated code we could find the first Monday and then\n",
    "# proceed in steps of 7 days, which would be faster."
   ]
  },
  {
   "cell_type": "markdown",
   "metadata": {},
   "source": [
    "## Problem 3"
   ]
  },
  {
   "cell_type": "markdown",
   "metadata": {},
   "source": [
    "Write a simple tkinter GUI program that shows a window with a 2x2 grid of buttons.  Three of the buttons should be labeled \"No\", and one of them should be labeled \"Yes\".  Pressing any of the buttons should exit the program.  But if the button pressed was the \"Yes\" button, then a message should be printed to the terminal reading \"Winner!\" before the program exits."
   ]
  },
  {
   "cell_type": "markdown",
   "metadata": {},
   "source": [
    "## Problem 3 solution"
   ]
  },
  {
   "cell_type": "code",
   "execution_count": null,
   "metadata": {},
   "outputs": [],
   "source": [
    "\"\"\"tkinter window with 2x2 grid of buttons\"\"\"\n",
    "\n",
    "import tkinter\n",
    "import tkinter.ttk\n",
    "\n",
    "app = tkinter.Tk()\n",
    "\n",
    "def yesbutton():\n",
    "    \"\"\"Handle button labeled 'Yes' being pressed\"\"\"\n",
    "    print(\"Winner!\")\n",
    "    exit()\n",
    "\n",
    "b = tkinter.ttk.Button(app,text=\"No\",command=exit)\n",
    "b.grid(column=0,row=0)\n",
    "\n",
    "b = tkinter.ttk.Button(app,text=\"No\",command=exit)\n",
    "b.grid(column=1,row=0)\n",
    "\n",
    "b = tkinter.ttk.Button(app,text=\"Yes\",command=yesbutton)\n",
    "b.grid(column=0,row=1)\n",
    "\n",
    "b = tkinter.ttk.Button(app,text=\"No\",command=exit)\n",
    "b.grid(column=1,row=1)\n",
    "\n",
    "app.mainloop()"
   ]
  }
 ],
 "metadata": {
  "kernelspec": {
   "display_name": "Python 3",
   "language": "python",
   "name": "python3"
  },
  "language_info": {
   "codemirror_mode": {
    "name": "ipython",
    "version": 3
   },
   "file_extension": ".py",
   "mimetype": "text/x-python",
   "name": "python",
   "nbconvert_exporter": "python",
   "pygments_lexer": "ipython3",
   "version": "3.8.5"
  }
 },
 "nbformat": 4,
 "nbformat_minor": 4
}
