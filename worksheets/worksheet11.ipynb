{
 "cells": [
  {
   "cell_type": "markdown",
   "metadata": {},
   "source": [
    "# Worksheet 11\n",
    "\n",
    "## MCS 260 Fall 2020 - Emily Dumas"
   ]
  },
  {
   "cell_type": "markdown",
   "metadata": {},
   "source": [
    "## Instructions:\n",
    "* This worksheet is shorter.  The Quiz will be shorter, too.  This is to account for the lack of discussions on Nov 3 and 5.\n",
    "* Complete the problems below in preparation for Quiz 11.\n",
    "* Collaboration is strongly encouraged on Worksheets.\n",
    "* Test your work to make sure it does what is asked."
   ]
  },
  {
   "cell_type": "markdown",
   "metadata": {},
   "source": [
    "## Problem 1"
   ]
  },
  {
   "cell_type": "markdown",
   "metadata": {},
   "source": [
    "Write a function `nonick(s)` that uses the `re` module to replace every instance of \"Dave\" or \"dave\" in a string `s` with \"David\", returning the modified string.\n",
    "\n",
    "To simplify this problem, you don't need to worry about whether \"Dave\" or \"dave\" is part of a longer word; you should replace it any time these four letters appear in the string."
   ]
  },
  {
   "cell_type": "code",
   "execution_count": 11,
   "metadata": {},
   "outputs": [
    {
     "name": "stdout",
     "output_type": "stream",
     "text": [
      "Test case 1:\n",
      "Input: we just got the assignment from dave\n",
      "Output: we just got the assignment from David\n",
      "Expected: we just got the assignment from David\n",
      "--  Test passed.  --\n",
      "\n",
      "Test case 2:\n",
      "Input: Dave just sent us the scores, and apparently Dave thought everyone deserved 100%.\n",
      "Output: David just sent us the scores, and apparently David thought everyone deserved 100%.\n",
      "Expected: David just sent us the scores, and apparently David thought everyone deserved 100%.\n",
      "--  Test passed.  --\n"
     ]
    }
   ],
   "source": [
    "import re\n",
    "\n",
    "# definition of the function nonick(s) goes here!\n",
    "\n",
    "in_str = \"we just got the assignment from dave\"\n",
    "expected_out_str = \"we just got the assignment from David\"\n",
    "\n",
    "out_str = nonick(in_str)\n",
    "print(\"Test case 1:\")\n",
    "print(\"Input:\",in_str)\n",
    "print(\"Output:\",out_str)\n",
    "print(\"Expected:\",expected_out_str)\n",
    "if out_str == expected_out_str:\n",
    "    print(\"--  Test passed.  --\")\n",
    "else:\n",
    "    print(\"-- Test FAILED.  --\")\n",
    "print()    \n",
    "\n",
    "in_str = \"Dave just sent us the scores, and apparently Dave thought everyone deserved 100%.\"\n",
    "expected_out_str = \"David just sent us the scores, and apparently David thought everyone deserved 100%.\"\n",
    "\n",
    "out_str = nonick(in_str)\n",
    "print(\"Test case 2:\")\n",
    "print(\"Input:\",in_str)\n",
    "print(\"Output:\",out_str)\n",
    "print(\"Expected:\",expected_out_str)\n",
    "if out_str == expected_out_str:\n",
    "    print(\"--  Test passed.  --\")\n",
    "else:\n",
    "    print(\"-- Test FAILED.  --\")\n",
    "\n",
    "    "
   ]
  },
  {
   "cell_type": "markdown",
   "metadata": {},
   "source": [
    "## Problem 2"
   ]
  },
  {
   "cell_type": "markdown",
   "metadata": {},
   "source": [
    "Write a program that takes the filename given as its first command line argument, opens it for reading, and then searches each line of the file to find all of the words that contain \"gry\" (somewhere within the word).\n",
    "Use regular expressions to do this.\n",
    "\n",
    "For this problem, assume that a \"word\" is a sequence of alphabet letters (A-Z and a-z).\n",
    "\n",
    "Make sure your program is tolerant of any combination of capital and lower case letters, and do that using regular expressions. Do not use `str.lower()` or `str.upper()` in your code."
   ]
  },
  {
   "cell_type": "markdown",
   "metadata": {},
   "source": [
    "For example, if you download this list of 5000 common english words:\n",
    "\n",
    "* [5000-more-common.txt](https://raw.githubusercontent.com/MichaelWehar/Public-Domain-Word-Lists/master/5000-more-common.txt)\n",
    "\n",
    "and run your program on it, the output should be a single word:\n",
    "\n",
    "```\n",
    "angry\n",
    "```\n",
    "\n",
    "And if you have a text file that contains a single line:\n",
    "```\n",
    "Hungry hungry gryphons is not the name of a popular board game from the 1980s, but it reminds me of one.\n",
    "```\n",
    "\n",
    "Then running your program on that file should produce the following output:\n",
    "```\n",
    "Hungry\n",
    "hungry\n",
    "gryphons\n",
    "```"
   ]
  },
  {
   "cell_type": "code",
   "execution_count": null,
   "metadata": {},
   "outputs": [],
   "source": []
  }
 ],
 "metadata": {
  "kernelspec": {
   "display_name": "Python 3",
   "language": "python",
   "name": "python3"
  },
  "language_info": {
   "codemirror_mode": {
    "name": "ipython",
    "version": 3
   },
   "file_extension": ".py",
   "mimetype": "text/x-python",
   "name": "python",
   "nbconvert_exporter": "python",
   "pygments_lexer": "ipython3",
   "version": "3.8.5"
  }
 },
 "nbformat": 4,
 "nbformat_minor": 4
}
