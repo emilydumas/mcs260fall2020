{
 "cells": [
  {
   "cell_type": "markdown",
   "metadata": {},
   "source": [
    "# Worksheet 8\n",
    "\n",
    "## MCS 260 Fall 2020 - Emily Dumas"
   ]
  },
  {
   "cell_type": "markdown",
   "metadata": {},
   "source": [
    "## Instructions:\n",
    "* Complete the problems below in preparation for Quiz 8.\n",
    "* When working in discussion, please have someone in your work group share a screen.\n",
    "* Test your work to make sure it does what is asked!\n",
    "* It is not expected that you will complete these problems in the Tue/Thu discussion meeting."
   ]
  },
  {
   "cell_type": "markdown",
   "metadata": {},
   "source": [
    "## Problem 1"
   ]
  },
  {
   "cell_type": "markdown",
   "metadata": {},
   "source": [
    "Write a function `dir_contents(dirname)` which accepts a single argument, the name of a directory, and which returns a list of dictionaries, one for each file or directory in `dirname`, in the following format:\n",
    "\n",
    "```\n",
    "[\n",
    "  { \"name\": \"foo.txt\", \"type\": \"file\" },\n",
    "  { \"name\": \"sub\", \"type\": \"directory\" }\n",
    "]\n",
    "```\n",
    "\n",
    "That is, each dictionary in the returned list should have two keys, `\"name\"` and `\"type\"`.  The key `\"name\"` should map to the name of a file or directory.  The key `\"type\"` should map to one of the strings `\"file\"` or `\"directory\"`, according to whether the object whose name is in the same dictionary is a regular file or a directory, respectively.\n",
    "\n",
    "(There are objects that can exist in a filesystem that are neither files nor directories.  Your answer does **not** need to handle such objects gracefully.)\n",
    "\n",
    "Your code may assume that the `os` module has already been imported."
   ]
  },
  {
   "cell_type": "markdown",
   "metadata": {},
   "source": [
    "## Problem 2"
   ]
  },
  {
   "cell_type": "markdown",
   "metadata": {},
   "source": [
    "In this problem you will create a module and a program that imports and tests that module.\n",
    "\n",
    "Build a module `listprops` that contains the following functions:\n",
    "\n",
    "* `mean(L)`: Accepts a nonempty list `L` of numbers (float or int) and returns the average of the numbers.\n",
    "\n",
    "* `is_decreasing(L)`: Accepts a nonempty list `L` of numbers and returns True if the numbers are strictly decreasing, i.e. if `L[i] > L[i+1]` for each `i`.\n",
    "\n",
    "* `all_equal(L)`: Accepts a nonempty list `L` of numbers and returns True if all of the entries in `L` are equal to one another.\n",
    "\n",
    "Then, build a program `test_listprops.py` that imports the `listprops` module and tests its operations in the cases listed below.  For each test case, a message should be printed indicating what the test does, and whether it succeeded or failed.\n",
    "\n",
    "Each test case listed below will evaluate to True if the module works as specified and has been imported before you run the test code."
   ]
  },
  {
   "cell_type": "code",
   "execution_count": null,
   "metadata": {},
   "outputs": [],
   "source": [
    "listprops.mean([5,6,10]) == 7.0"
   ]
  },
  {
   "cell_type": "code",
   "execution_count": null,
   "metadata": {},
   "outputs": [],
   "source": [
    "listprops.is_decreasing([8,7,6.5,6.5,6,5]) == False"
   ]
  },
  {
   "cell_type": "code",
   "execution_count": null,
   "metadata": {},
   "outputs": [],
   "source": [
    "listprops.is_decreasing([100,73,21,0.1,-5]) == True"
   ]
  },
  {
   "cell_type": "code",
   "execution_count": null,
   "metadata": {},
   "outputs": [],
   "source": [
    "listprops.all_equal([1.5,3,1.5,1.5]) == False"
   ]
  },
  {
   "cell_type": "code",
   "execution_count": null,
   "metadata": {},
   "outputs": [],
   "source": [
    "listprops.all_equal([260,260,260]) == True"
   ]
  },
  {
   "cell_type": "markdown",
   "metadata": {},
   "source": [
    "## Problem 3"
   ]
  },
  {
   "cell_type": "markdown",
   "metadata": {},
   "source": [
    "Write a program `trimblank.py` that takes two command line arguments, an input filename (argument 1) and an output filename (argument 2).\n",
    "\n",
    "This program should open and read the file with the given input filename, apply the transformations described below, and write the results to the output filename given.  The transformations are:\n",
    "\n",
    "* If the first non-whitespace character on a line is `#`, then the entire line is ignored (not written to the output file).  This will be called a comment line.\n",
    "* After removing comment lines, if two or more consecutive lines in the input file consist entirely of whitespace, then they should be replaced by a single blank line in the output file.\n",
    "* Other lines from the input file should be written to the output file without any changes.  (Whitespace anywhere in such a line should be preserved.)\n",
    "\n",
    "Also, if the input file does not exist, or if the output file cannot be opened for writing, the program should handle this gracefully by printing an informative message and exiting.\n",
    "\n",
    "Here is a test case for the program."
   ]
  },
  {
   "cell_type": "markdown",
   "metadata": {},
   "source": [
    "### Contents of in.txt\n",
    "\n",
    "```\n",
    "A line of text\n",
    "       \n",
    " # a comment line in the middle of lines with only whitespace\n",
    "\n",
    "\n",
    "Another line of text\n",
    "# comment between text lines\n",
    "  and one that begins with some whitespace\n",
    "\n",
    "\n",
    "\n",
    "Last line of text\n",
    "```\n",
    "\n",
    "### Contents of out.txt after calling `python trimblank.py in.txt out.txt`\n",
    "\n",
    "```\n",
    "A line of text\n",
    "\n",
    "Another line of text\n",
    "  and one that begins with some whitespace\n",
    "\n",
    "Last line of text\n",
    "```"
   ]
  },
  {
   "cell_type": "markdown",
   "metadata": {},
   "source": [
    "## Problem 4"
   ]
  },
  {
   "cell_type": "markdown",
   "metadata": {},
   "source": [
    "In Lecture 15 we wrote a simple calculator application, `unary.py`.  The source code can be found at:\n",
    "\n",
    "* [unary_10am.py](https://github.com/emilydumas/mcs260fall2020/blob/master/samplecode/unary_10am.py)\n",
    "* [unary_2pm.py](https://github.com/emilydumas/mcs260fall2020/blob/master/samplecode/unary_2pm.py)\n",
    "\n",
    "Add a new command called `undo` to this calculator.  This command should undo the last command entered by the user that was not `undo`.  If the user attempts to undo more commands than have been run, an error message should be printed.\n",
    "\n",
    "Hint: Implement this by creating a stack that stores all previous values of the calculator display.  Each non-undo command should push the value on the stack before running the command.  Then, `undo` simply pops a value off the stack to restore the previous value."
   ]
  },
  {
   "cell_type": "markdown",
   "metadata": {},
   "source": [
    "Here is a sample session in which we use the undo feature.  It would be a good idea to study this example and make sure you understand it before proceeding.  For example, for each undo command, can you identify which previous command will be undone by it?\n",
    "\n",
    "```\n",
    "       0.000\n",
    ">add 1\n",
    "       1.000\n",
    ">add 3\n",
    "       4.000\n",
    ">mul 5\n",
    "      20.000\n",
    ">undo\n",
    "       4.000\n",
    ">mul 4\n",
    "      16.000\n",
    ">undo\n",
    "       4.000\n",
    ">undo\n",
    "       1.000\n",
    ">undo\n",
    "       0.000\n",
    ">undo\n",
    "ERROR: Nothing to undo.\n",
    "       0.000\n",
    ">exit\n",
    "```"
   ]
  },
  {
   "cell_type": "code",
   "execution_count": null,
   "metadata": {},
   "outputs": [],
   "source": []
  }
 ],
 "metadata": {
  "kernelspec": {
   "display_name": "Python 3",
   "language": "python",
   "name": "python3"
  },
  "language_info": {
   "codemirror_mode": {
    "name": "ipython",
    "version": 3
   },
   "file_extension": ".py",
   "mimetype": "text/x-python",
   "name": "python",
   "nbconvert_exporter": "python",
   "pygments_lexer": "ipython3",
   "version": "3.8.2"
  }
 },
 "nbformat": 4,
 "nbformat_minor": 4
}
