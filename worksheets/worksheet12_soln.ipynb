{
 "cells": [
  {
   "cell_type": "markdown",
   "metadata": {},
   "source": [
    "# Worksheet 12\n",
    "\n",
    "## MCS 260 Fall 2020 - Emily Dumas"
   ]
  },
  {
   "cell_type": "markdown",
   "metadata": {},
   "source": [
    "## Problem 1 (pytest)\n",
    "\n",
    "Here is a link to the `geom.py` module we developed in a previous lecture.  It allows you to represent Circles, Rectangles, and Squares in the plane and to perform some operations on them.\n",
    "\n",
    "* [geom.py](https://raw.githubusercontent.com/emilydumas/mcs260fall2020/master/samplecode/geom/geom.py)\n",
    "\n",
    "Download this file and save it in its own folder (e.g. `geomtesting` would be a good name for the folder).\n",
    "\n",
    "Now, create a file `test_geom.py` in the same folder that contains at least 4 tests for `geom.py` in the format expected by pytest.  That is, each test should be in a function whose name begins with `test_`.  Running this script with the python interpreter should do nothing, since it should only declare test functions, and should not call them.\n",
    "\n",
    "Run pytest and confirm that all of your tests are discovered, and that they all pass.\n",
    "\n",
    "Examples of suggested tests:\n",
    "* two Circle objects created to have the same center an radius compare as equal\n",
    "* two Rectangle objects created to have the same center, width, and height compare as equal\n",
    "* using the `.scale()` method of a specific Rectangle you choose for testing purposes gives the same results as what you expect based on computing by hand.\n",
    "* adding two example rectangles gives the same bounding box as you compute by hand.\n",
    "\n",
    "Note that the equality test for objects in `geom.py` is very fragile, because it tests floats for equality.  One way to avoid problems with floating point error is to choose examples where every value involved (width, height, center coordinates, radius, scale factor, etc.) is actually an integer."
   ]
  },
  {
   "cell_type": "code",
   "execution_count": null,
   "metadata": {},
   "outputs": [],
   "source": [
    "'''test_geom.py, Worksheet 12 Problem 1 test script for geom.py to use with pytest'''\n",
    "\n",
    "import geom\n",
    "\n",
    "def test_circleeq():\n",
    "    '''Confirms that two circle with the same \n",
    "    center and radius are equal'''\n",
    "    C1 = geom.Circle(1.0, 2.0, 5.0)\n",
    "    C2 = geom.Circle(1.0, 2.0, 5.0)\n",
    "    assert C1 == C2\n",
    "\n",
    "def test_circletranslate():\n",
    "    '''Confirms that circle translating \n",
    "    behaves as expected.'''\n",
    "    C = geom.Circle(5.0, 5.0, 5.0)\n",
    "    C.translate(4.0, 3.0)\n",
    "    assert C.cx == 9.0\n",
    "    assert C.cy == 8.0\n",
    "    assert C.r == 5.0\n",
    "\n",
    "def test_recteq():\n",
    "    '''Confirms that two rectangles with the \n",
    "    same centers and sidelengths are equal'''\n",
    "    R1 = geom.Rectangle(1.0,-3.0, 3.5, 2.15)\n",
    "    R2 = geom.Rectangle(1.0,-3.0, 3.5, 2.15)\n",
    "    assert R1 == R2\n",
    "\n",
    "def test_rectscale():\n",
    "    '''Confirms that the rectangle scaling \n",
    "    behaves as expected'''\n",
    "    R = geom.Rectangle(1.0, 1.0, 2.0, 2.0)\n",
    "    R.scale(2)\n",
    "    assert R.w == 4.0\n",
    "    assert R.h == 4.0\n",
    "    assert R.cx == 1.0\n",
    "    assert R.cy == 1.0\n",
    "\n",
    "# No need for any code outside of the functions to call them! Pytest will run them for us."
   ]
  },
  {
   "cell_type": "markdown",
   "metadata": {},
   "source": [
    "#### Instructions to run Prob 1 solution\n",
    "\n",
    "Before running, install pytest using pip.\n",
    "\n",
    "```\n",
    "python -m pip install pytest\n",
    "```\n",
    "\n",
    "Then make sure that ```geom.py``` and ```test_geom.py``` are in the same directory, e.g. ```Desktop/geomtesting```.\n",
    "\n",
    "To run pytest, use your terminal to navigate to the directory and run pytest using your python interptreter.\n",
    "\n",
    "```\n",
    "cd Desktop/geomtesting\n",
    "python -m pytest\n",
    "```\n",
    "\n",
    "If you typically run your scripts using python3, then use that for installing/running pytest.\n",
    "\n",
    "```\n",
    "python3 -m pip install pytest\n",
    "python3 -m pytest\n",
    "```\n",
    "\n",
    "The pytest output should look similar to the output below:\n",
    "\n",
    "```\n",
    "======================================== test session starts ========================================\n",
    "platform win32 -- Python 3.8.5, pytest-6.1.2, py-1.9.0, pluggy-0.13.1\n",
    "rootdir: C:\\Users\\jvac\\Desktop\\FA 2020 MCS 260 Intro to Comp Sci\\Discussion 12\\geomtest\n",
    "collected 4 items\n",
    "\n",
    "test_geom.py ....                                                                              [100%]\n",
    "\n",
    "========================================= 4 passed in 0.03s ========================================= \n",
    "```"
   ]
  },
  {
   "cell_type": "markdown",
   "metadata": {},
   "source": [
    "## Prep for problems 2-5: Downloading data\n",
    "\n",
    "The rest of the worksheet requires data files you need to download.\n",
    "\n",
    "Download the following files and put them in a place where you can easily open them with the programs you'll write in this worksheet:\n",
    "\n",
    "* [inttable.csv](https://dumas.io/teaching/2020/fall/mcs260/sampledata/inttable.csv)\n",
    "* [uicscorecard.json](https://dumas.io/teaching/2020/fall/mcs260/sampledata/uicscorecard.json)\n",
    "\n",
    "Now, confirm you can open this file in a Python script.  Modify the code below as needed, either saving it to a file in the same directory as the data file downloaded above, or changing the filename in the code."
   ]
  },
  {
   "cell_type": "code",
   "execution_count": null,
   "metadata": {},
   "outputs": [],
   "source": [
    "\"\"\"Check that the worksheet 12 data files are accessible\"\"\"\n",
    "# To use this, save it to a script file on your computer.\n",
    "# Then run it from a terminal.\n",
    "import os\n",
    "\n",
    "# MAY NEED TO CHANGE THIS depending on where the CSV file is located:\n",
    "csv_filename = \"inttable.csv\"\n",
    "# e.g. might need something like csv_filename = r\"C:\\Users\\sramanaj\\Downloads\\inttable.csv\"\n",
    "\n",
    "if os.path.exists(csv_filename):\n",
    "    print(\"CSV file found successfully\")\n",
    "else:\n",
    "    print(\"PROBLEM: CSV file not found.  Either change `csv_filename` to include the path or move this script to another directory.\")\n",
    "\n",
    "# MAY NEED TO CHANGE THIS depending on where the JSON file is located:\n",
    "json_filename = \"uicscorecard.json\"\n",
    "# e.g. might need something like json_filename = r\"C:\\Users\\sramanaj\\Downloads\\uicscorecard.json\"\n",
    "\n",
    "if os.path.exists(csv_filename):\n",
    "    print(\"JSON file found successfully\")\n",
    "else:\n",
    "    print(\"PROBLEM: JSON file not found.  Either change `json_filename` to include the path or move this script to another directory.\")\n",
    "\n",
    "    "
   ]
  },
  {
   "cell_type": "markdown",
   "metadata": {},
   "source": [
    "## CSV data introduction\n",
    "\n",
    "**Read this before working on problems 2--3.**\n",
    "\n",
    "The file `inttable.csv` you downloaded contains 200 columns of data.  It was generated using a script written by the instructor.  There is a header row, followed by 1000 rows of data.  Each datum is a positive integer, but of course the `csv` module will return these as strings.\n",
    "\n",
    "Reminder: Since this CSV file has a header row, it is recommended to use a `csv.DictReader` object to read it."
   ]
  },
  {
   "cell_type": "markdown",
   "metadata": {},
   "source": [
    "## Problem 2 (CSV)"
   ]
  },
  {
   "cell_type": "markdown",
   "metadata": {},
   "source": [
    "\n",
    "One of the columns in the CSV file is called `fabric`.  Write a script to determine the largest integer in that column.\n",
    "\n",
    "Reminder: Since this CSV file has a header row, it is recommended to use a `csv.DictReader` object to read it."
   ]
  },
  {
   "cell_type": "code",
   "execution_count": null,
   "metadata": {},
   "outputs": [],
   "source": [
    "'''Worksheet 12 Problem 2'''\n",
    "\n",
    "import csv\n",
    "\n",
    "# Open the file in read mode with newline=\"\"\n",
    "f = open(\"inttable.csv\", \"r\", newline=\"\")\n",
    "\n",
    "# Create a DictReader object using the open file object\n",
    "csv_data = csv.DictReader(f)\n",
    "\n",
    "largest_int = 0\n",
    "\n",
    "# Iterate through csv_data. Each row is a dictionary with the header row strings as keys\n",
    "for row in csv_data:\n",
    "    \n",
    "    # Convert row[\"fabric\"] from type str to type int\n",
    "    row_int = int(row[\"fabric\"])\n",
    "    \n",
    "    if row_int > largest_int:\n",
    "        largest_int = row_int\n",
    "        #print(\"Largest int changed!\",largest_int)\n",
    "\n",
    "print(\"The largest int is\",largest_int)"
   ]
  },
  {
   "cell_type": "markdown",
   "metadata": {},
   "source": [
    "## Problem 3 (CSV)"
   ]
  },
  {
   "cell_type": "markdown",
   "metadata": {},
   "source": [
    "Write a script to find the largest integer that appears in *any* column of `inttable.csv`, and to report which column it was found in.\n",
    "\n",
    "If there are ties (i.e. the largest number appears several times), report each one."
   ]
  },
  {
   "cell_type": "code",
   "execution_count": null,
   "metadata": {},
   "outputs": [],
   "source": [
    "'''Worksheet 12 Problem 3'''\n",
    "\n",
    "import csv\n",
    "\n",
    "# Open the file in read mode with newline=\"\"\n",
    "f = open(\"inttable.csv\", \"r\", newline=\"\")\n",
    "\n",
    "# Create a DictReader object using the open file object\n",
    "csv_data = csv.DictReader(f)\n",
    "\n",
    "# Keep track of the largest int and the largest key(s)\n",
    "largest_int = 0\n",
    "largest_int_keys = []\n",
    "\n",
    "# Iterate through csv_data. Each row is a dictionary with the header row strings as keys\n",
    "for row in csv_data:\n",
    "    \n",
    "    # Iterate through the keys in the dictionary row, to pull out each associated int\n",
    "    for key in row:\n",
    "        i_int = int(row[key])\n",
    "        \n",
    "        # If there's a `tie` then add the key to the list\n",
    "        if largest_int == i_int:\n",
    "            largest_int_keys.append(key)\n",
    "            #print(\"Largest int added!\",largest_int_keys,largest_int)\n",
    "        \n",
    "        # If i_int is larger, then wipe out old keys and replace largest_int\n",
    "        elif i_int > largest_int:\n",
    "            largest_int = i_int\n",
    "            largest_int_keys = [key]\n",
    "            #print(\"Largest int changed!\",largest_int_keys,largest_int)\n",
    "\n",
    "for key in largest_int_keys:\n",
    "    print(\"The largest int is\",largest_int,\"from the column\",key)"
   ]
  },
  {
   "cell_type": "markdown",
   "metadata": {},
   "source": [
    "## JSON data introduction\n",
    "Read this before working on problems 4--5.\n",
    "\n",
    "The file `uicscorecard.json` you downloaded was obtained from a query submitted to the US Department of Education's College Scorecard API:\n",
    "\n",
    "* https://collegescorecard.ed.gov/data/documentation/\n",
    "\n",
    "The query requested information about the University of Illinois at Chicago.  The resulting JSON file contains certain information compiled by the Department of Education about UIC between 1998 and 2018.\n",
    "\n",
    "While you won't need it for this assignment, you can find complete documentation of the fields in this JSON file at\n",
    "* https://collegescorecard.ed.gov/assets/CollegeScorecardDataDictionary.xlsx"
   ]
  },
  {
   "cell_type": "markdown",
   "metadata": {},
   "source": [
    "## Problem 4 (JSON)"
   ]
  },
  {
   "cell_type": "markdown",
   "metadata": {},
   "source": [
    "Open the JSON file `uicscorecard.json` and load it using the `json` module.  Store the result in a variable.\n",
    "\n",
    "* (A) The top-level object in this file is a dictionary.  What are its keys?\n",
    "\n",
    "* (B) One of the keys is called `results`, and the associated value is a list.  How many elements are in this list?"
   ]
  },
  {
   "cell_type": "code",
   "execution_count": null,
   "metadata": {},
   "outputs": [],
   "source": [
    "'''Worksheet 12 Problem 4'''\n",
    "\n",
    "import json\n",
    "\n",
    "# Open the file in read mode\n",
    "f = open(\"uicscorecard.json\", \"r\")\n",
    "\n",
    "# Load the file to a variable using the json module\n",
    "data = json.load(f)\n",
    "\n",
    "# data is a dictionary\n",
    "print(\"(A) Keys in data:\")\n",
    "for key in data.keys():\n",
    "    print(key)\n",
    "\n",
    "# data[\"results\"] is a list\n",
    "print(\"(B) Size of the results list:\", len(data[\"results\"]))"
   ]
  },
  {
   "cell_type": "markdown",
   "metadata": {},
   "source": [
    "## Problem 5 (JSON)\n",
    "\n",
    "Let's assume that a variable `data` stores the dictionary read from `uicscorecard.json`.  (You should write code to accomplish that before proceeding.)\n",
    "\n",
    "Then `data[\"results\"][0]` gives a dictionary of data about UIC.  Some of the keys are years, which lead to year-specific data.\n",
    "\n",
    "For example, the fraction of degrees awarded at UIC in 2017 that were in mathematics can be retrieved as:\n",
    "\n",
    "`data[\"results\"][0][\"2017\"][\"academics\"][\"program_percentage\"][\"mathematics\"]`\n",
    "\n",
    "Here, `\"2017\"` is the year, given as a string.  The value\n",
    "\n",
    "`data[\"results\"][0][\"2017\"][\"academics\"][\"program_percentage\"]`\n",
    "\n",
    "is a dictionary containing fractions of degrees awarded in that year in various subjects.\n",
    "\n",
    "* (A) For which years does this dataset contain information about the fraction of degrees awarded in mathematics?  (A value of `None` indicates missing data.)\n",
    "* (B) What other subjects are tracked, besides mathematics?  (Base your answer on the 2017 data.)\n",
    "* (C) Write a program to print a table of years and the fraction of degrees awarded in mathematics, and in engineering, for each year in which at least one of those fractions is available.\n",
    "\n"
   ]
  },
  {
   "cell_type": "code",
   "execution_count": null,
   "metadata": {},
   "outputs": [],
   "source": [
    "'''Worksheet 12 Problem 5'''\n",
    "\n",
    "import json\n",
    "\n",
    "f = open(\"uicscorecard.json\", \"r\")\n",
    "\n",
    "data = json.load(f)\n",
    "\n",
    "print(\"(A) Years with math program percentage data:\")\n",
    "\n",
    "# We know that some of the keys in data[\"results\"][0] are years\n",
    "for key in data[\"results\"][0]:\n",
    "    try:\n",
    "        year = int(key) # key may be a year or another string\n",
    "        if data[\"results\"][0][key][\"academics\"][\"program_percentage\"][\"mathematics\"] !=None:\n",
    "            print(year)\n",
    "    except:\n",
    "        # We will get an exception...\n",
    "        # ...if key was not an integer, i.e. a year\n",
    "        # ...if there is no valid math program data field for that year\n",
    "        # In either case, don't print out the year, and continue to the next key.\n",
    "        continue\n",
    "\n",
    "print(\"\\n(B) Data types tracked in 2017:\")\n",
    "for key in data[\"results\"][0][\"2017\"][\"academics\"][\"program_percentage\"]:\n",
    "    print(key)\n",
    "\n",
    "print(\"\\n(C) Table of Math/Eng Program Percentages:\")\n",
    "print(\"Year Mathematics Engineering\")\n",
    "for key in data[\"results\"][0]:\n",
    "    try:\n",
    "        year = int(key) # key may be a year, otherwise we get an exception\n",
    "        math_percent = data[\"results\"][0][key][\"academics\"][\"program_percentage\"][\"mathematics\"]\n",
    "        eng_percent = data[\"results\"][0][key][\"academics\"][\"program_percentage\"][\"engineering\"]\n",
    "        \n",
    "        # If at least one of the fields is not None, then add it to the table by printing.\n",
    "        if math_percent != None or eng_percent != None:\n",
    "            print(year,math_percent,eng_percent)\n",
    "    except:\n",
    "        continue\n"
   ]
  },
  {
   "cell_type": "markdown",
   "metadata": {},
   "source": [
    "## Extension activity\n",
    "\n",
    "**You can work on this if you finish all the problems above during discussion.**\n",
    "\n",
    "The file `uicscorecard.json` contains a lot of interesting data about UIC.  It also has a lot of fields with missing data, and it uses a very complex hierarchy of fields.\n",
    "\n",
    "By exploring the keys of various dictionary elements in this file using the Python REPL, try to find interesting information and compile it into a more condensed form (e.g. a table showing how some quantity varies across years, or across academic disciplines).\n",
    "\n",
    "Consult the data dictionary for help with the field meanings:\n",
    "* https://collegescorecard.ed.gov/assets/CollegeScorecardDataDictionary.xlsx\n",
    "\n",
    "(This is a Microsoft Excel file, but it can also be read by Google Sheets which you can access at [gdocs.uic.edu](http://gdocs.uic.edu).)"
   ]
  }
 ],
 "metadata": {
  "kernelspec": {
   "display_name": "Python 3",
   "language": "python",
   "name": "python3"
  },
  "language_info": {
   "codemirror_mode": {
    "name": "ipython",
    "version": 3
   },
   "file_extension": ".py",
   "mimetype": "text/x-python",
   "name": "python",
   "nbconvert_exporter": "python",
   "pygments_lexer": "ipython3",
   "version": "3.8.5"
  }
 },
 "nbformat": 4,
 "nbformat_minor": 4
}
