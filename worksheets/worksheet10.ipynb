{
 "cells": [
  {
   "cell_type": "markdown",
   "metadata": {},
   "source": [
    "# Worksheet 10\n",
    "\n",
    "## MCS 260 Fall 2020 - Emily Dumas"
   ]
  },
  {
   "cell_type": "markdown",
   "metadata": {},
   "source": [
    "## Instructions:\n",
    "* Complete the problems below in preparation for Quiz 10.\n",
    "* Collaboration is strongly encouraged on Worksheets\n",
    "* When working in discussion, please have someone in your work group share a screen.\n",
    "* Test your work to make sure it does what is asked\n",
    "* It is not expected that you will complete these problems in the Tue/Thu discussion meeting."
   ]
  },
  {
   "cell_type": "markdown",
   "metadata": {},
   "source": [
    "## Problem 1"
   ]
  },
  {
   "cell_type": "markdown",
   "metadata": {},
   "source": [
    "As with sequences, assigning a key-value pair is handled by the special method `__setitem__`.  For example,\n",
    "\n",
    "```python\n",
    "obj[\"foo\"] = \"bar\"\n",
    "```\n",
    "\n",
    "becomes the method call\n",
    "\n",
    "```python\n",
    "obj.__setitem__(\"foo\",\"bar\")\n",
    "```\n",
    "\n",
    "Create a subclass of the built-in type `dict` called `WordDict` that will only allow keys that are words, meaning they are strings (instances of `str`) that consist entirely of the characters `A` to `Z` and `a` to `z`.\n",
    "\n",
    "Specifically, your class should raise a `TypeError` if a key is not an instance of `str`, and should raise a `ValueError` if the key contains characters other the ones allowed.\n",
    "\n",
    "Note: Once you have determined a key is allowed, you should let the `__setitem__` method of the superclass `dict` do the work.  For this, the `super()` function will be useful."
   ]
  },
  {
   "cell_type": "markdown",
   "metadata": {},
   "source": [
    "If you've completed this problem correctly, it should behave as in the following REPL session.  (Note you may need to change `WordDict` to `modulename.WordDict` if you import the class from a module called `modulename`.)"
   ]
  },
  {
   "cell_type": "markdown",
   "metadata": {},
   "source": [
    "```\n",
    ">>> d = WordDict()\n",
    ">>> d[1]=2\n",
    "Traceback (most recent call last):\n",
    "  File \"<stdin>\", line 1, in <module>\n",
    "  File \"<stdin>\", line 4, in __setitem__\n",
    "TypeError: Only keys that are instances of str are allowed\n",
    ">>> d[\"foo\"]=\"bar\"\n",
    ">>> d[\"two words\"]=81\n",
    "Traceback (most recent call last):\n",
    "  File \"<stdin>\", line 1, in <module>\n",
    "  File \"<stdin>\", line 6, in __setitem__\n",
    "ValueError: Key 'two words' contains non-alphabet characters\n",
    ">>> d[\"other\"]=99\n",
    ">>> d\n",
    "{'foo': 'bar', 'other': 99}\n",
    ">>> isinstance(d,dict)  # It subclasses dict, so it is an instance!\n",
    "True\n",
    ">>>\n",
    "```"
   ]
  },
  {
   "cell_type": "markdown",
   "metadata": {},
   "source": [
    "## Problem 2"
   ]
  },
  {
   "cell_type": "markdown",
   "metadata": {},
   "source": [
    "In Lecture 26 we built a module `gs` that defines a class `FiniteGeometricSeries` that represents and lazily evaluates a finite geometric series.  The source code is here:\n",
    "\n",
    "* [gs.py](https://github.com/emilydumas/mcs260fall2020/blob/master/samplecode/gs/gs.py)\n",
    "\n",
    "However, the class we wrote in lecture doesn't allow indexing with negative numbers, e.g. where `[-1]` means the last element, etc..\n",
    "\n",
    "Modify `FiniteGeometricSeries` so that it does support negative indices in the same way that `list` does.  However, negative indices that are too large in magnitude to represent an item in the series should still raise an exception.\n",
    "\n",
    "Below is a transcript of a test of the updated module in the REPL.  Your class should behave in the same way after the modifications."
   ]
  },
  {
   "cell_type": "markdown",
   "metadata": {},
   "source": [
    "```\n",
    ">>> import gs\n",
    ">>> S = gs.FiniteGeometricSequence(start=2,ratio=3,length=5)\n",
    ">>> S[4]\n",
    "162\n",
    ">>> S[-1]\n",
    "162\n",
    ">>> S[-2]\n",
    "54\n",
    ">>> S[-500]\n",
    "Traceback (most recent call last):\n",
    "  File \"<stdin>\", line 1, in <module>\n",
    "  File \"/home/ddumas/Dropbox/teaching/mcs260/samplecode/gs/gs_practice.py\", line 23, in __getitem__\n",
    "    raise IndexError(\"index out of range for series with {} terms\".format(\n",
    "IndexError: index out of range for series with 5 terms\n",
    "```"
   ]
  },
  {
   "cell_type": "markdown",
   "metadata": {},
   "source": [
    "## Problem 3"
   ]
  },
  {
   "cell_type": "markdown",
   "metadata": {},
   "source": [
    "Recall that a palindrome is a word (or string) that is unchanged after it is reversed.\n",
    "\n",
    "Here is a description of a palindrome that suggests a recursive way of checking whether a string is a palindrome or not:\n",
    "* Any string with 0 or 1 characters is a palindrome\n",
    "* A string with at least 2 characters is a palindrome if both of these conditions are met:\n",
    "    * The first and last characters are equal\n",
    "    * After the first and last characters are removed, what remains is a palindrome\n",
    "    \n",
    "Use this description to write a function `is_palindrome_recursive(s)` that returns `True` if string `s` is a palindrome, and `False` otherwise."
   ]
  },
  {
   "cell_type": "markdown",
   "metadata": {},
   "source": [
    "## Problem 4"
   ]
  },
  {
   "cell_type": "markdown",
   "metadata": {},
   "source": [
    "The Fibonacci numbers are the sequence of positive integers $F_i$ defined as follows:\n",
    "\n",
    "* $F_0 = 0$ and $F_1 = 1$\n",
    "* For $i > 1$ we have $F_i = F_{i-1} + F_{i-2}$.\n",
    "\n",
    "Since this definition of $F_i$ involves other Fibonacci numbers, it naturally lends itself to recursion.  Write a function `fib(n)` that calculates $F_n$ using recursion.\n",
    "\n",
    "Test your function to ensure that it produces the following list:\n",
    "\n",
    "```\n",
    "n      0  1  2  3  4  5  6  7   8   9   10\n",
    "fib(n) 0  1  1  2  3  5  8  13  21  34  55\n",
    "```"
   ]
  },
  {
   "cell_type": "markdown",
   "metadata": {},
   "source": [
    "## Problem 5"
   ]
  },
  {
   "cell_type": "markdown",
   "metadata": {},
   "source": [
    "This problem builds on the previous one, and is relatively challenging.\n",
    "\n",
    "When you call `fib(n)`, how many times does the `fib` function get called in total?\n",
    "\n",
    "To start exploring this, you might first add a `print()` statement in the body of `fib(n)` so that you can see how many calls are made.  After trying this out a few times, can you see a pattern?  Can you analyze it theoretically to find a formula?\n",
    "\n",
    "The answer should be a formula involving `n`, and it is acceptable to also have `fib(n)` in the formula."
   ]
  },
  {
   "cell_type": "code",
   "execution_count": null,
   "metadata": {},
   "outputs": [],
   "source": []
  }
 ],
 "metadata": {
  "kernelspec": {
   "display_name": "Python 3",
   "language": "python",
   "name": "python3"
  },
  "language_info": {
   "codemirror_mode": {
    "name": "ipython",
    "version": 3
   },
   "file_extension": ".py",
   "mimetype": "text/x-python",
   "name": "python",
   "nbconvert_exporter": "python",
   "pygments_lexer": "ipython3",
   "version": "3.8.5"
  }
 },
 "nbformat": 4,
 "nbformat_minor": 4
}
